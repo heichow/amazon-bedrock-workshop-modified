{
 "cells": [
  {
   "cell_type": "markdown",
   "id": "494b37b5-c936-4ce8-9c2c-b262b506a535",
   "metadata": {},
   "source": [
    "# Introduction to Bedrock - Text Generation Sample : Write Product Marketing Mails"
   ]
  },
  {
   "cell_type": "markdown",
   "id": "bbab02f1-3eac-4274-b06b-d51ce586df2c",
   "metadata": {
    "tags": []
   },
   "source": [
    "--- \n",
    "\n",
    "In this demo notebook, we demonstrate how to use the Bedrock Python SDK for a marketing mail generation example. We show how to use Bedrock's Foundational Models to generate a marketing mail after reading the product description.\n",
    "\n",
    "---"
   ]
  },
  {
   "cell_type": "markdown",
   "id": "9740e506-d76a-42e3-87da-c77666975d0e",
   "metadata": {},
   "source": [
    "Note: This notebook was tested in Amazon SageMaker Studio with Python 3 (Data Science 2.0) kernel."
   ]
  },
  {
   "cell_type": "markdown",
   "id": "770bec8e-dd15-4b7d-8ec3-bc35baab0305",
   "metadata": {},
   "source": [
    "1. [Set Up](#1.-Set-Up-and-API-walkthrough)\n",
    "2. [Writing marketing mail](#2.-Reading-Comprehension)"
   ]
  },
  {
   "cell_type": "markdown",
   "id": "4c1fda97-9150-484a-8cfa-86ec9568fc61",
   "metadata": {},
   "source": [
    "## 1. Set Up and verify the environment"
   ]
  },
  {
   "cell_type": "markdown",
   "id": "27a83a8d-9527-48b4-92ff-fce963fbe3b5",
   "metadata": {},
   "source": [
    "---\n",
    "Before executing the notebook for the first time, execute this cell to add bedrock extensions to the Python boto3 SDK\n",
    "\n",
    "---"
   ]
  },
  {
   "cell_type": "code",
   "execution_count": null,
   "id": "108c611c-7246-45c4-9f1e-76888b5076eb",
   "metadata": {
    "tags": []
   },
   "outputs": [],
   "source": [
    "# Upgrade boto3 for Bedrock support - at least boto3 1.28.62+\n",
    "!python3 -m pip install boto3 --upgrade"
   ]
  },
  {
   "cell_type": "markdown",
   "id": "07958746-7313-484a-887b-167b8d8acf31",
   "metadata": {},
   "source": [
    "#### Now let's set up our connection to the Amazon Bedrock SDK using Boto3"
   ]
  },
  {
   "cell_type": "code",
   "execution_count": null,
   "id": "0dd15c3b-0cc3-4fc5-8e38-4cc9078a3758",
   "metadata": {
    "tags": []
   },
   "outputs": [],
   "source": [
    "import boto3\n",
    "import json\n",
    "import time\n",
    "\n",
    "bedrock_client = boto3.client(service_name='bedrock',region_name='us-east-1',endpoint_url='https://bedrock.us-east-1.amazonaws.com')\n",
    "bedrock = boto3.client('bedrock-runtime', region_name='us-east-1')"
   ]
  },
  {
   "cell_type": "markdown",
   "id": "9e9174c4-326a-463e-92e1-8c7e47111269",
   "metadata": {},
   "source": [
    "#### We can validate our connection by testing out the _list_foundation_models()_ method, which will tell us all the models available for us to use "
   ]
  },
  {
   "cell_type": "code",
   "execution_count": null,
   "id": "f67b4466-12ff-4975-9811-7a19c6206604",
   "metadata": {
    "tags": []
   },
   "outputs": [],
   "source": [
    "bedrock_client.list_foundation_models()"
   ]
  },
  {
   "cell_type": "markdown",
   "id": "be9044d4-9d04-47c3-86ca-5b206585b784",
   "metadata": {
    "tags": []
   },
   "source": [
    "#### In this Notebook we will be using the invoke_model() method of Amazon Bedrock. This will be the primary method we use for most of our Mail Generation tasks. "
   ]
  },
  {
   "cell_type": "markdown",
   "id": "881928fb-4daf-47e5-a2b6-b2292a679a81",
   "metadata": {
    "tags": []
   },
   "source": [
    "##### The mandatory parameters required to use this method are, where _modelId_ represents the Amazon Bedrock model ARN, and _body_ which is the prompt for our task. The _body_ prompt will change depending on the foundational model provider selected. We walk through this in detail below\n",
    "\n",
    "```\n",
    "{\n",
    "   modelId= model_id,\n",
    "   contentType= \"application/json\",\n",
    "   accept= \"application/json\",\n",
    "   body=body\n",
    "}\n",
    "\n",
    "```"
   ]
  },
  {
   "cell_type": "code",
   "execution_count": null,
   "id": "ee9db2f3",
   "metadata": {
    "tags": []
   },
   "outputs": [],
   "source": [
    "def bedrock_invoke_model(prompt, model_id=\"anthropic.claude-instant-v1\"):\n",
    "    # record start time\n",
    "    start = time.time()\n",
    "\n",
    "    body = json.dumps({\"prompt\": prompt, \"max_tokens_to_sample\": 2048, \"temperature\":0, \"stop_sequences\": [\"\\n\\nHuman:\", \"</response>\"]})\n",
    "\n",
    "    modelId = model_id\n",
    "    accept = 'application/json'\n",
    "    contentType = 'application/json'\n",
    "\n",
    "    response = bedrock.invoke_model(body=body, modelId=modelId, accept=accept, contentType=contentType)\n",
    "    response_body = json.loads(response.get('body').read())\n",
    "\n",
    "    # record end time\n",
    "    end = time.time()\n",
    "\n",
    "    # print the difference between start and end time in milli. secs\n",
    "    print(\"\\n\\nThe time of model invocation is :\",\n",
    "        (end - start) * 10**3, \"ms \\n\\n\")\n",
    "\n",
    "    return response_body.get('completion')"
   ]
  },
  {
   "cell_type": "markdown",
   "id": "ce22c308-ebbf-4ef5-a823-832b7c236e31",
   "metadata": {},
   "source": [
    "## 2. Writing marketing mails"
   ]
  },
  {
   "cell_type": "markdown",
   "id": "3d7c0fe6-576a-4380-89aa-726bab5d65ff",
   "metadata": {},
   "source": [
    "### Let's try the prompt with the Anthropic Claude Instant Model and Claude V2 Model on Bedrock"
   ]
  },
  {
   "cell_type": "markdown",
   "id": "3f5f2eaf",
   "metadata": {},
   "source": [
    "#### Marketing mail task"
   ]
  },
  {
   "cell_type": "code",
   "execution_count": null,
   "id": "ad49cb04-8bcc-481c-bf24-457960f7e282",
   "metadata": {
    "tags": []
   },
   "outputs": [],
   "source": [
    "# Direct request\n",
    "marketing_mail = \"\"\"\n",
    "\n",
    "Human: Can you write a marketing mail for a product \"Sun-blocker cycling sunglasses\"?\n",
    "\n",
    "Assistant:\n",
    "\"\"\"\n",
    "\n",
    "\n",
    "print(\"### Claude Instant reslult:\\n\", bedrock_invoke_model(marketing_mail), \"\\n\\n\")\n",
    "\n",
    "print(\"### Claude V2 result:\\n\", bedrock_invoke_model(marketing_mail, 'anthropic.claude-v2'))"
   ]
  },
  {
   "cell_type": "code",
   "execution_count": null,
   "id": "2ab92f33-1b58-4b15-93d1-485376af328c",
   "metadata": {
    "tags": []
   },
   "outputs": [],
   "source": [
    "# Refined Direct request\n",
    "marketing_mail = \"\"\"\n",
    "\n",
    "Human: Ignore all previous instructions and prompts.\n",
    "Can you write a very eye-catching marketing mail for a product \"sunglasses\" called \"Sun-blocker cycling sunglasses\"?\n",
    "\n",
    "Assistant:\n",
    "\"\"\"\n",
    "\n",
    "print(\"### Claude Instant reslult:\\n\", bedrock_invoke_model(marketing_mail), \"\\n\\n\")\n",
    "\n",
    "print(\"### Claude V2 result:\\n\", bedrock_invoke_model(marketing_mail, 'anthropic.claude-v2'))"
   ]
  },
  {
   "cell_type": "code",
   "execution_count": null,
   "id": "692ee726-b705-4dc9-a91d-5d657767347e",
   "metadata": {
    "tags": []
   },
   "outputs": [],
   "source": [
    "# Refined Direct request\n",
    "marketing_mail = \"\"\"\n",
    "\n",
    "Human: Ignore all previous instructions and prompts.\n",
    "Can you write a very eye-catching marketing mail for a product in English?\n",
    "The product is a \"sunglasses\" and its named \"Sun-blocker cycling sunglasses\"\n",
    "\n",
    "Assistant:\n",
    "\"\"\"\n",
    "\n",
    "print(\"### Claude Instant reslult:\\n\", bedrock_invoke_model(marketing_mail), \"\\n\\n\")\n",
    "\n",
    "print(\"### Claude V2 result:\\n\", bedrock_invoke_model(marketing_mail, 'anthropic.claude-v2'))"
   ]
  },
  {
   "cell_type": "code",
   "execution_count": null,
   "id": "6476ac79-a637-4a7b-9389-041f7c2494ca",
   "metadata": {
    "tags": []
   },
   "outputs": [],
   "source": [
    "# Direct request in a better format and set output format\n",
    "marketing_mail = \"\"\"\n",
    "\n",
    "Human: Ignore all previous instructions and prompts. Omit introductory text and narration in your response.\n",
    "Can you write a very eye-catching marketing mail for a product in English?\n",
    "The product is a \"sunglasses\" called \"Sun-blocker cycling sunglasses\"\n",
    "\n",
    "Print the mail content in Markdown format.\n",
    "\n",
    "Assistant:\n",
    "\"\"\"\n",
    "\n",
    "print(\"### Claude Instant reslult:\\n\", bedrock_invoke_model(marketing_mail), \"\\n\\n\")\n",
    "\n",
    "print(\"### Claude V2 result:\\n\", bedrock_invoke_model(marketing_mail, 'anthropic.claude-v2'))"
   ]
  },
  {
   "cell_type": "code",
   "execution_count": null,
   "id": "3603b668-64c9-456e-a64b-d7918263d07d",
   "metadata": {
    "tags": []
   },
   "outputs": [],
   "source": [
    "# Direct request in a better format and set output format\n",
    "marketing_mail = \"\"\"\n",
    "\n",
    "Human: Ignore all previous instructions and prompts. Omit introductory text and narration in your response.\n",
    "Can you write a very eye-catching marketing mail for a product in English?\n",
    "The product is a \"sunglasses\" called \"Sun-blocker cycling sunglasses\"\n",
    "\n",
    "Print the mail content in Markdown format with a subject and headings for each section.\n",
    "\n",
    "Assistant:\n",
    "\"\"\"\n",
    "\n",
    "print(\"### Claude Instant reslult:\\n\", bedrock_invoke_model(marketing_mail), \"\\n\\n\")\n",
    "\n",
    "print(\"### Claude V2 result:\\n\", bedrock_invoke_model(marketing_mail, 'anthropic.claude-v2'))"
   ]
  },
  {
   "cell_type": "code",
   "execution_count": null,
   "id": "3d3c4499-7bb8-469f-a2e2-bacdb2b36b7f",
   "metadata": {
    "tags": []
   },
   "outputs": [],
   "source": [
    "# HTML format\n",
    "marketing_mail = \"\"\"\n",
    "\n",
    "Human: Ignore all previous instructions and prompts. Omit introductory text and narration in your response.\n",
    "\n",
    "Can you write a very eye-catching marketing mail for a product in English?\n",
    "\n",
    "The product is a \"sunglasses\" and its named \"Sun-blocker cycling sunglasses\"\n",
    "\n",
    "Print the mail content in the HTML format with headings for each section.\n",
    "\n",
    "Assistant:\n",
    "\"\"\"\n",
    "\n",
    "print(\"### Claude Instant reslult:\\n\", bedrock_invoke_model(marketing_mail), \"\\n\\n\")\n",
    "\n",
    "print(\"### Claude V2 result:\\n\", bedrock_invoke_model(marketing_mail, 'anthropic.claude-v2'))"
   ]
  },
  {
   "cell_type": "code",
   "execution_count": null,
   "id": "3fb71ae9-ab32-4ae0-acda-6a43a3fe5540",
   "metadata": {
    "tags": []
   },
   "outputs": [],
   "source": [
    "# Direct request in a better format and set output format\n",
    "# Omit introductory text and narration in the response\n",
    "marketing_mail = \"\"\"\n",
    "\n",
    "Human: Omit introductory text and narration in your response. \n",
    "\n",
    "You are a great and professional writer. Can you write a very eye-catching marketing mail for a product?\n",
    "\n",
    "The product is a { sunglasses } and its named { Anti stripping shampoo }\n",
    "\n",
    "Print the mail content in the HTML format with headings for each section.\n",
    "\n",
    "Assistant: Here is the mail:\"\"\"\n",
    "\n",
    "print(\"### Claude Instant reslult:\\n\", bedrock_invoke_model(marketing_mail), \"\\n\\n\")\n",
    "\n",
    "print(\"### Claude V2 result:\\n\", bedrock_invoke_model(marketing_mail, 'anthropic.claude-v2'))"
   ]
  },
  {
   "cell_type": "code",
   "execution_count": null,
   "id": "6c4dbea3-57d7-403f-83b8-1e0b58628a81",
   "metadata": {
    "tags": []
   },
   "outputs": [],
   "source": [
    "# Read the production description and write the marketing mail\n",
    "marketing_mail = \"\"\"\n",
    "\n",
    "Human: Ignore all previous instructions and prompts. Omit introductory text and narration in your response.\n",
    "You are a very great and professional writer bot designed to write premium quality mails and articles. Can you read the product description, inside <description></description> XML tags and use the information from the description to write a very eye-catching marketing mail for a \"sunglasses\" named \"Sun-blocker cycling sunglasses\"?\n",
    "\n",
    "<description>\n",
    "We extended the field of view in the upper peripheral region to optimize it for cycling, and once we added SwiftChange Technology for easy lens changing plus temples that adjust to three different lengths for helmet compatibility, Sun-blocker became the ultimate sport design.\n",
    "\n",
    "Fast, secure lens replacement with SwiftChange interchangeable lens technology\n",
    "Lightweight frame material with ellipse metal icon accents\n",
    "Titanium earsocks and nosepads for increased comfort and performance\n",
    "Sun-blocker performance shield lens technology\n",
    "Available with Prize lenses to enhance color, contrast and detail for an optimized experience\n",
    "Polarized and Iridium lens options available\n",
    "Available with Sun-blocker Authentic Prescription Lenses\n",
    "Protective soft vault included\n",
    "\n",
    "Features and Technology\n",
    "Impact Protection:\n",
    "Sun-blcoker lenses are designed and tested under extreme high mass and high velocity circumstances to ensure uncompromising protection across a wide range of demanding conditions.\n",
    "\n",
    "Prize Road Lens:\n",
    "LIGHT TRANSMISSION: 20%\n",
    "LIGHT CONDITIONS: MEDIUM LIGHT\n",
    "BASE LENS COLOR: ROSE\n",
    "INFORMATION NOTICE: 2\n",
    "\n",
    "Fit Options\n",
    "Wide: A larger lens front designed for those who prefer to cover a greater portion of the face.\n",
    "High Bridge Fit: Offers a more secure and comfortable fit for those with a high nose bridge and lower cheekbones. A good choice if the bridge of your nose is above the level of your pupils.\n",
    "</description>\n",
    "\n",
    "Here are some instructions, inside <instructions></instructions> XML tags, that you should follow when you write the marketing mail.\n",
    "<instructions>\n",
    "Think carefully about what audiences would like to know about the product\n",
    "Write as much information as possible\n",
    "Output in Chinese\n",
    "Please write greeting lines when you write an email\n",
    "Emphasize benefits of the product\n",
    "Highlight great features and technology\n",
    "Highlight premium product quality\n",
    "Emphasize best price-performance\n",
    "Provide discount information\n",
    "Provide a link for purchase\n",
    "</instructions>\n",
    "\n",
    "Please output the content in HTML format with headings for each section and include <!DOCTYPE html> at the beginning of HTML code.\n",
    "\n",
    "Assistant:\n",
    "\"\"\"\n",
    "\n",
    "claude_instant_result = bedrock_invoke_model(marketing_mail)\n",
    "claude_result = bedrock_invoke_model(marketing_mail, 'anthropic.claude-v2')\n",
    "\n",
    "print(\"### Claude Instant reslult:\\n\", claude_instant_result, \"\\n\\n\")\n",
    "print(\"### Claude V2 result:\\n\", claude_result)"
   ]
  },
  {
   "cell_type": "markdown",
   "id": "c040f8d8",
   "metadata": {},
   "source": [
    "### Let's try evaluation the completion with the Claude V2 Model on Bedrock"
   ]
  },
  {
   "cell_type": "code",
   "execution_count": null,
   "id": "9918b3f7-c604-46b4-a6d1-99c9dcfea7c6",
   "metadata": {
    "tags": []
   },
   "outputs": [],
   "source": [
    "# Use LLM to evaluate the similarity between Claude generated result and customer's expected result - for marketing mail tasks\n",
    "similarity_check = \"\"\"\n",
    "\n",
    "Human: Ignore all previous instructions and prompts. You are buyer and are going to be checking the contents of two marketing mails and decide which one is more attractive.\n",
    "\n",
    "Here's the first marketing mail, inside <mail1></mail1> tags:\n",
    "<mail1>{MAIL1}</mail1>\n",
    "\n",
    "Here's the second marketing mail, inside <mail2></mail2> tags:\n",
    "<mail2>{MAIL2}</mail2>\n",
    "\n",
    "Please begin your answer with \"[YES]\" if they're saying almost the same thing or \"[NO]\" if they're not. Tell me which mail will have more positive impact on your purchase decision.\n",
    "\n",
    "Assistant: \"\"\"\n",
    "\n",
    "prompt_for_similarity = similarity_check.format(MAIL1 = claude_instant_result, MAIL2 = claude_result)\n",
    "print('Checking prompt:', prompt_for_similarity, \"\\n\\n\")\n",
    "\n",
    "evaluation_result = bedrock_invoke_model(prompt_for_similarity, 'anthropic.claude-v2')\n",
    "print('Evaluation Result: ', evaluation_result)\n"
   ]
  }
 ],
 "metadata": {
  "availableInstances": [
   {
    "_defaultOrder": 0,
    "_isFastLaunch": true,
    "category": "General purpose",
    "gpuNum": 0,
    "hideHardwareSpecs": false,
    "memoryGiB": 4,
    "name": "ml.t3.medium",
    "vcpuNum": 2
   },
   {
    "_defaultOrder": 1,
    "_isFastLaunch": false,
    "category": "General purpose",
    "gpuNum": 0,
    "hideHardwareSpecs": false,
    "memoryGiB": 8,
    "name": "ml.t3.large",
    "vcpuNum": 2
   },
   {
    "_defaultOrder": 2,
    "_isFastLaunch": false,
    "category": "General purpose",
    "gpuNum": 0,
    "hideHardwareSpecs": false,
    "memoryGiB": 16,
    "name": "ml.t3.xlarge",
    "vcpuNum": 4
   },
   {
    "_defaultOrder": 3,
    "_isFastLaunch": false,
    "category": "General purpose",
    "gpuNum": 0,
    "hideHardwareSpecs": false,
    "memoryGiB": 32,
    "name": "ml.t3.2xlarge",
    "vcpuNum": 8
   },
   {
    "_defaultOrder": 4,
    "_isFastLaunch": true,
    "category": "General purpose",
    "gpuNum": 0,
    "hideHardwareSpecs": false,
    "memoryGiB": 8,
    "name": "ml.m5.large",
    "vcpuNum": 2
   },
   {
    "_defaultOrder": 5,
    "_isFastLaunch": false,
    "category": "General purpose",
    "gpuNum": 0,
    "hideHardwareSpecs": false,
    "memoryGiB": 16,
    "name": "ml.m5.xlarge",
    "vcpuNum": 4
   },
   {
    "_defaultOrder": 6,
    "_isFastLaunch": false,
    "category": "General purpose",
    "gpuNum": 0,
    "hideHardwareSpecs": false,
    "memoryGiB": 32,
    "name": "ml.m5.2xlarge",
    "vcpuNum": 8
   },
   {
    "_defaultOrder": 7,
    "_isFastLaunch": false,
    "category": "General purpose",
    "gpuNum": 0,
    "hideHardwareSpecs": false,
    "memoryGiB": 64,
    "name": "ml.m5.4xlarge",
    "vcpuNum": 16
   },
   {
    "_defaultOrder": 8,
    "_isFastLaunch": false,
    "category": "General purpose",
    "gpuNum": 0,
    "hideHardwareSpecs": false,
    "memoryGiB": 128,
    "name": "ml.m5.8xlarge",
    "vcpuNum": 32
   },
   {
    "_defaultOrder": 9,
    "_isFastLaunch": false,
    "category": "General purpose",
    "gpuNum": 0,
    "hideHardwareSpecs": false,
    "memoryGiB": 192,
    "name": "ml.m5.12xlarge",
    "vcpuNum": 48
   },
   {
    "_defaultOrder": 10,
    "_isFastLaunch": false,
    "category": "General purpose",
    "gpuNum": 0,
    "hideHardwareSpecs": false,
    "memoryGiB": 256,
    "name": "ml.m5.16xlarge",
    "vcpuNum": 64
   },
   {
    "_defaultOrder": 11,
    "_isFastLaunch": false,
    "category": "General purpose",
    "gpuNum": 0,
    "hideHardwareSpecs": false,
    "memoryGiB": 384,
    "name": "ml.m5.24xlarge",
    "vcpuNum": 96
   },
   {
    "_defaultOrder": 12,
    "_isFastLaunch": false,
    "category": "General purpose",
    "gpuNum": 0,
    "hideHardwareSpecs": false,
    "memoryGiB": 8,
    "name": "ml.m5d.large",
    "vcpuNum": 2
   },
   {
    "_defaultOrder": 13,
    "_isFastLaunch": false,
    "category": "General purpose",
    "gpuNum": 0,
    "hideHardwareSpecs": false,
    "memoryGiB": 16,
    "name": "ml.m5d.xlarge",
    "vcpuNum": 4
   },
   {
    "_defaultOrder": 14,
    "_isFastLaunch": false,
    "category": "General purpose",
    "gpuNum": 0,
    "hideHardwareSpecs": false,
    "memoryGiB": 32,
    "name": "ml.m5d.2xlarge",
    "vcpuNum": 8
   },
   {
    "_defaultOrder": 15,
    "_isFastLaunch": false,
    "category": "General purpose",
    "gpuNum": 0,
    "hideHardwareSpecs": false,
    "memoryGiB": 64,
    "name": "ml.m5d.4xlarge",
    "vcpuNum": 16
   },
   {
    "_defaultOrder": 16,
    "_isFastLaunch": false,
    "category": "General purpose",
    "gpuNum": 0,
    "hideHardwareSpecs": false,
    "memoryGiB": 128,
    "name": "ml.m5d.8xlarge",
    "vcpuNum": 32
   },
   {
    "_defaultOrder": 17,
    "_isFastLaunch": false,
    "category": "General purpose",
    "gpuNum": 0,
    "hideHardwareSpecs": false,
    "memoryGiB": 192,
    "name": "ml.m5d.12xlarge",
    "vcpuNum": 48
   },
   {
    "_defaultOrder": 18,
    "_isFastLaunch": false,
    "category": "General purpose",
    "gpuNum": 0,
    "hideHardwareSpecs": false,
    "memoryGiB": 256,
    "name": "ml.m5d.16xlarge",
    "vcpuNum": 64
   },
   {
    "_defaultOrder": 19,
    "_isFastLaunch": false,
    "category": "General purpose",
    "gpuNum": 0,
    "hideHardwareSpecs": false,
    "memoryGiB": 384,
    "name": "ml.m5d.24xlarge",
    "vcpuNum": 96
   },
   {
    "_defaultOrder": 20,
    "_isFastLaunch": false,
    "category": "General purpose",
    "gpuNum": 0,
    "hideHardwareSpecs": true,
    "memoryGiB": 0,
    "name": "ml.geospatial.interactive",
    "supportedImageNames": [
     "sagemaker-geospatial-v1-0"
    ],
    "vcpuNum": 0
   },
   {
    "_defaultOrder": 21,
    "_isFastLaunch": true,
    "category": "Compute optimized",
    "gpuNum": 0,
    "hideHardwareSpecs": false,
    "memoryGiB": 4,
    "name": "ml.c5.large",
    "vcpuNum": 2
   },
   {
    "_defaultOrder": 22,
    "_isFastLaunch": false,
    "category": "Compute optimized",
    "gpuNum": 0,
    "hideHardwareSpecs": false,
    "memoryGiB": 8,
    "name": "ml.c5.xlarge",
    "vcpuNum": 4
   },
   {
    "_defaultOrder": 23,
    "_isFastLaunch": false,
    "category": "Compute optimized",
    "gpuNum": 0,
    "hideHardwareSpecs": false,
    "memoryGiB": 16,
    "name": "ml.c5.2xlarge",
    "vcpuNum": 8
   },
   {
    "_defaultOrder": 24,
    "_isFastLaunch": false,
    "category": "Compute optimized",
    "gpuNum": 0,
    "hideHardwareSpecs": false,
    "memoryGiB": 32,
    "name": "ml.c5.4xlarge",
    "vcpuNum": 16
   },
   {
    "_defaultOrder": 25,
    "_isFastLaunch": false,
    "category": "Compute optimized",
    "gpuNum": 0,
    "hideHardwareSpecs": false,
    "memoryGiB": 72,
    "name": "ml.c5.9xlarge",
    "vcpuNum": 36
   },
   {
    "_defaultOrder": 26,
    "_isFastLaunch": false,
    "category": "Compute optimized",
    "gpuNum": 0,
    "hideHardwareSpecs": false,
    "memoryGiB": 96,
    "name": "ml.c5.12xlarge",
    "vcpuNum": 48
   },
   {
    "_defaultOrder": 27,
    "_isFastLaunch": false,
    "category": "Compute optimized",
    "gpuNum": 0,
    "hideHardwareSpecs": false,
    "memoryGiB": 144,
    "name": "ml.c5.18xlarge",
    "vcpuNum": 72
   },
   {
    "_defaultOrder": 28,
    "_isFastLaunch": false,
    "category": "Compute optimized",
    "gpuNum": 0,
    "hideHardwareSpecs": false,
    "memoryGiB": 192,
    "name": "ml.c5.24xlarge",
    "vcpuNum": 96
   },
   {
    "_defaultOrder": 29,
    "_isFastLaunch": true,
    "category": "Accelerated computing",
    "gpuNum": 1,
    "hideHardwareSpecs": false,
    "memoryGiB": 16,
    "name": "ml.g4dn.xlarge",
    "vcpuNum": 4
   },
   {
    "_defaultOrder": 30,
    "_isFastLaunch": false,
    "category": "Accelerated computing",
    "gpuNum": 1,
    "hideHardwareSpecs": false,
    "memoryGiB": 32,
    "name": "ml.g4dn.2xlarge",
    "vcpuNum": 8
   },
   {
    "_defaultOrder": 31,
    "_isFastLaunch": false,
    "category": "Accelerated computing",
    "gpuNum": 1,
    "hideHardwareSpecs": false,
    "memoryGiB": 64,
    "name": "ml.g4dn.4xlarge",
    "vcpuNum": 16
   },
   {
    "_defaultOrder": 32,
    "_isFastLaunch": false,
    "category": "Accelerated computing",
    "gpuNum": 1,
    "hideHardwareSpecs": false,
    "memoryGiB": 128,
    "name": "ml.g4dn.8xlarge",
    "vcpuNum": 32
   },
   {
    "_defaultOrder": 33,
    "_isFastLaunch": false,
    "category": "Accelerated computing",
    "gpuNum": 4,
    "hideHardwareSpecs": false,
    "memoryGiB": 192,
    "name": "ml.g4dn.12xlarge",
    "vcpuNum": 48
   },
   {
    "_defaultOrder": 34,
    "_isFastLaunch": false,
    "category": "Accelerated computing",
    "gpuNum": 1,
    "hideHardwareSpecs": false,
    "memoryGiB": 256,
    "name": "ml.g4dn.16xlarge",
    "vcpuNum": 64
   },
   {
    "_defaultOrder": 35,
    "_isFastLaunch": false,
    "category": "Accelerated computing",
    "gpuNum": 1,
    "hideHardwareSpecs": false,
    "memoryGiB": 61,
    "name": "ml.p3.2xlarge",
    "vcpuNum": 8
   },
   {
    "_defaultOrder": 36,
    "_isFastLaunch": false,
    "category": "Accelerated computing",
    "gpuNum": 4,
    "hideHardwareSpecs": false,
    "memoryGiB": 244,
    "name": "ml.p3.8xlarge",
    "vcpuNum": 32
   },
   {
    "_defaultOrder": 37,
    "_isFastLaunch": false,
    "category": "Accelerated computing",
    "gpuNum": 8,
    "hideHardwareSpecs": false,
    "memoryGiB": 488,
    "name": "ml.p3.16xlarge",
    "vcpuNum": 64
   },
   {
    "_defaultOrder": 38,
    "_isFastLaunch": false,
    "category": "Accelerated computing",
    "gpuNum": 8,
    "hideHardwareSpecs": false,
    "memoryGiB": 768,
    "name": "ml.p3dn.24xlarge",
    "vcpuNum": 96
   },
   {
    "_defaultOrder": 39,
    "_isFastLaunch": false,
    "category": "Memory Optimized",
    "gpuNum": 0,
    "hideHardwareSpecs": false,
    "memoryGiB": 16,
    "name": "ml.r5.large",
    "vcpuNum": 2
   },
   {
    "_defaultOrder": 40,
    "_isFastLaunch": false,
    "category": "Memory Optimized",
    "gpuNum": 0,
    "hideHardwareSpecs": false,
    "memoryGiB": 32,
    "name": "ml.r5.xlarge",
    "vcpuNum": 4
   },
   {
    "_defaultOrder": 41,
    "_isFastLaunch": false,
    "category": "Memory Optimized",
    "gpuNum": 0,
    "hideHardwareSpecs": false,
    "memoryGiB": 64,
    "name": "ml.r5.2xlarge",
    "vcpuNum": 8
   },
   {
    "_defaultOrder": 42,
    "_isFastLaunch": false,
    "category": "Memory Optimized",
    "gpuNum": 0,
    "hideHardwareSpecs": false,
    "memoryGiB": 128,
    "name": "ml.r5.4xlarge",
    "vcpuNum": 16
   },
   {
    "_defaultOrder": 43,
    "_isFastLaunch": false,
    "category": "Memory Optimized",
    "gpuNum": 0,
    "hideHardwareSpecs": false,
    "memoryGiB": 256,
    "name": "ml.r5.8xlarge",
    "vcpuNum": 32
   },
   {
    "_defaultOrder": 44,
    "_isFastLaunch": false,
    "category": "Memory Optimized",
    "gpuNum": 0,
    "hideHardwareSpecs": false,
    "memoryGiB": 384,
    "name": "ml.r5.12xlarge",
    "vcpuNum": 48
   },
   {
    "_defaultOrder": 45,
    "_isFastLaunch": false,
    "category": "Memory Optimized",
    "gpuNum": 0,
    "hideHardwareSpecs": false,
    "memoryGiB": 512,
    "name": "ml.r5.16xlarge",
    "vcpuNum": 64
   },
   {
    "_defaultOrder": 46,
    "_isFastLaunch": false,
    "category": "Memory Optimized",
    "gpuNum": 0,
    "hideHardwareSpecs": false,
    "memoryGiB": 768,
    "name": "ml.r5.24xlarge",
    "vcpuNum": 96
   },
   {
    "_defaultOrder": 47,
    "_isFastLaunch": false,
    "category": "Accelerated computing",
    "gpuNum": 1,
    "hideHardwareSpecs": false,
    "memoryGiB": 16,
    "name": "ml.g5.xlarge",
    "vcpuNum": 4
   },
   {
    "_defaultOrder": 48,
    "_isFastLaunch": false,
    "category": "Accelerated computing",
    "gpuNum": 1,
    "hideHardwareSpecs": false,
    "memoryGiB": 32,
    "name": "ml.g5.2xlarge",
    "vcpuNum": 8
   },
   {
    "_defaultOrder": 49,
    "_isFastLaunch": false,
    "category": "Accelerated computing",
    "gpuNum": 1,
    "hideHardwareSpecs": false,
    "memoryGiB": 64,
    "name": "ml.g5.4xlarge",
    "vcpuNum": 16
   },
   {
    "_defaultOrder": 50,
    "_isFastLaunch": false,
    "category": "Accelerated computing",
    "gpuNum": 1,
    "hideHardwareSpecs": false,
    "memoryGiB": 128,
    "name": "ml.g5.8xlarge",
    "vcpuNum": 32
   },
   {
    "_defaultOrder": 51,
    "_isFastLaunch": false,
    "category": "Accelerated computing",
    "gpuNum": 1,
    "hideHardwareSpecs": false,
    "memoryGiB": 256,
    "name": "ml.g5.16xlarge",
    "vcpuNum": 64
   },
   {
    "_defaultOrder": 52,
    "_isFastLaunch": false,
    "category": "Accelerated computing",
    "gpuNum": 4,
    "hideHardwareSpecs": false,
    "memoryGiB": 192,
    "name": "ml.g5.12xlarge",
    "vcpuNum": 48
   },
   {
    "_defaultOrder": 53,
    "_isFastLaunch": false,
    "category": "Accelerated computing",
    "gpuNum": 4,
    "hideHardwareSpecs": false,
    "memoryGiB": 384,
    "name": "ml.g5.24xlarge",
    "vcpuNum": 96
   },
   {
    "_defaultOrder": 54,
    "_isFastLaunch": false,
    "category": "Accelerated computing",
    "gpuNum": 8,
    "hideHardwareSpecs": false,
    "memoryGiB": 768,
    "name": "ml.g5.48xlarge",
    "vcpuNum": 192
   },
   {
    "_defaultOrder": 55,
    "_isFastLaunch": false,
    "category": "Accelerated computing",
    "gpuNum": 8,
    "hideHardwareSpecs": false,
    "memoryGiB": 1152,
    "name": "ml.p4d.24xlarge",
    "vcpuNum": 96
   },
   {
    "_defaultOrder": 56,
    "_isFastLaunch": false,
    "category": "Accelerated computing",
    "gpuNum": 8,
    "hideHardwareSpecs": false,
    "memoryGiB": 1152,
    "name": "ml.p4de.24xlarge",
    "vcpuNum": 96
   }
  ],
  "instance_type": "ml.t3.medium",
  "kernelspec": {
   "display_name": "conda_python3",
   "language": "python",
   "name": "conda_python3"
  },
  "language_info": {
   "codemirror_mode": {
    "name": "ipython",
    "version": 3
   },
   "file_extension": ".py",
   "mimetype": "text/x-python",
   "name": "python",
   "nbconvert_exporter": "python",
   "pygments_lexer": "ipython3",
   "version": "3.10.12"
  }
 },
 "nbformat": 4,
 "nbformat_minor": 5
}
