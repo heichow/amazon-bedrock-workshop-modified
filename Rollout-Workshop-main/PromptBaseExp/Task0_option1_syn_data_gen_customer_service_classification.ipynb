{
 "cells": [
  {
   "cell_type": "markdown",
   "id": "91a0175c-d502-4962-ae02-a92f613edd41",
   "metadata": {
    "tags": []
   },
   "source": [
    "# Synthetic Data Generation"
   ]
  },
  {
   "cell_type": "markdown",
   "id": "36ea4fe2-737b-4599-b2ab-6b29241aef8a",
   "metadata": {},
   "source": [
    "In this notebook, we are going to generate some synthetic data that represents some of the most popular CX use cases."
   ]
  },
  {
   "cell_type": "markdown",
   "id": "481660af-e781-4695-8213-ce59ffd354c5",
   "metadata": {},
   "source": [
    "### Environment Preperation"
   ]
  },
  {
   "cell_type": "code",
   "execution_count": 2,
   "id": "a6312bc6-b100-4b4f-87c9-1155e078aa9d",
   "metadata": {
    "tags": []
   },
   "outputs": [
    {
     "name": "stdout",
     "output_type": "stream",
     "text": [
      "\u001b[31mERROR: pip's dependency resolver does not currently take into account all the packages that are installed. This behaviour is the source of the following dependency conflicts.\n",
      "spyder 5.3.3 requires pyqt5<5.16, which is not installed.\n",
      "spyder 5.3.3 requires pyqtwebengine<5.16, which is not installed.\n",
      "apache-beam 2.52.0 requires dill<0.3.2,>=0.3.1.1, but you have dill 0.3.7 which is incompatible.\n",
      "distributed 2022.7.0 requires tornado<6.2,>=6.0.3, but you have tornado 6.3.2 which is incompatible.\n",
      "docker-compose 1.29.2 requires jsonschema<4,>=2.5.1, but you have jsonschema 4.20.0 which is incompatible.\n",
      "docker-compose 1.29.2 requires PyYAML<6,>=3.10, but you have pyyaml 6.0.1 which is incompatible.\n",
      "jupyterlab 3.4.4 requires jupyter-server~=1.16, but you have jupyter-server 2.6.0 which is incompatible.\n",
      "jupyterlab-server 2.10.3 requires jupyter-server~=1.4, but you have jupyter-server 2.6.0 which is incompatible.\n",
      "nemoguardrails 0.5.0 requires langchain==0.0.251, but you have langchain 0.0.309 which is incompatible.\n",
      "panel 0.13.1 requires bokeh<2.5.0,>=2.4.0, but you have bokeh 3.1.1 which is incompatible.\n",
      "pyasn1-modules 0.2.8 requires pyasn1<0.5.0,>=0.4.6, but you have pyasn1 0.5.1 which is incompatible.\n",
      "sagemaker-datawrangler 0.4.3 requires sagemaker-data-insights==0.4.0, but you have sagemaker-data-insights 0.3.3 which is incompatible.\n",
      "sparkmagic 0.20.4 requires nest-asyncio==1.5.5, but you have nest-asyncio 1.5.6 which is incompatible.\n",
      "spyder 5.3.3 requires ipython<8.0.0,>=7.31.1, but you have ipython 8.14.0 which is incompatible.\n",
      "spyder 5.3.3 requires pylint<3.0,>=2.5.0, but you have pylint 3.0.0a6 which is incompatible.\n",
      "spyder-kernels 2.3.3 requires ipython<8,>=7.31.1; python_version >= \"3\", but you have ipython 8.14.0 which is incompatible.\n",
      "spyder-kernels 2.3.3 requires jupyter-client<8,>=7.3.4; python_version >= \"3\", but you have jupyter-client 8.2.0 which is incompatible.\u001b[0m\u001b[31m\n",
      "\u001b[0m\u001b[33mWARNING: Running pip as the 'root' user can result in broken permissions and conflicting behaviour with the system package manager. It is recommended to use a virtual environment instead: https://pip.pypa.io/warnings/venv\u001b[0m\u001b[33m\n",
      "\u001b[0m\n",
      "\u001b[1m[\u001b[0m\u001b[34;49mnotice\u001b[0m\u001b[1;39;49m]\u001b[0m\u001b[39;49m A new release of pip is available: \u001b[0m\u001b[31;49m23.1.2\u001b[0m\u001b[39;49m -> \u001b[0m\u001b[32;49m23.3.1\u001b[0m\n",
      "\u001b[1m[\u001b[0m\u001b[34;49mnotice\u001b[0m\u001b[1;39;49m]\u001b[0m\u001b[39;49m To update, run: \u001b[0m\u001b[32;49mpip install --upgrade pip\u001b[0m\n",
      "Note: you may need to restart the kernel to use updated packages.\n",
      "\u001b[33mWARNING: Running pip as the 'root' user can result in broken permissions and conflicting behaviour with the system package manager. It is recommended to use a virtual environment instead: https://pip.pypa.io/warnings/venv\u001b[0m\u001b[33m\n",
      "\u001b[0m\n",
      "\u001b[1m[\u001b[0m\u001b[34;49mnotice\u001b[0m\u001b[1;39;49m]\u001b[0m\u001b[39;49m A new release of pip is available: \u001b[0m\u001b[31;49m23.1.2\u001b[0m\u001b[39;49m -> \u001b[0m\u001b[32;49m23.3.1\u001b[0m\n",
      "\u001b[1m[\u001b[0m\u001b[34;49mnotice\u001b[0m\u001b[1;39;49m]\u001b[0m\u001b[39;49m To update, run: \u001b[0m\u001b[32;49mpip install --upgrade pip\u001b[0m\n",
      "Note: you may need to restart the kernel to use updated packages.\n"
     ]
    }
   ],
   "source": [
    "# Update SDK and Install related libraries\n",
    "# You can ignore the error related to installation\n",
    "%pip install --quiet --no-build-isolation --force-reinstall \\\n",
    "    \"boto3>=1.28.57\" \\\n",
    "    \"awscli>=1.29.57\" \\\n",
    "    \"botocore>=1.31.57\"\n",
    "\n",
    "%pip install --quiet langchain==0.0.309 \"transformers>=4.24,<5\""
   ]
  },
  {
   "cell_type": "code",
   "execution_count": 3,
   "id": "2ab65cd5-3ce8-4c78-ada1-6ea0c1f1c357",
   "metadata": {
    "tags": []
   },
   "outputs": [
    {
     "name": "stdout",
     "output_type": "stream",
     "text": [
      "Create new client\n",
      "  Using region: us-east-1\n",
      "boto3 Bedrock client successfully created!\n",
      "bedrock-runtime(https://bedrock-runtime.us-east-1.amazonaws.com)\n"
     ]
    }
   ],
   "source": [
    "# Set up IAM\n",
    "import json\n",
    "import os\n",
    "import sys\n",
    "import boto3\n",
    "\n",
    "module_path = \"..\"\n",
    "sys.path.append(os.path.abspath(module_path))\n",
    "from utils import bedrock, print_ww\n",
    "\n",
    "\n",
    "# ---- ⚠️ Un-comment and edit the below lines as needed for your AWS setup ⚠️ ----\n",
    "\n",
    "# os.environ[\"AWS_DEFAULT_REGION\"] = \"<REGION_NAME>\"  # E.g. \"us-east-1\"\n",
    "# os.environ[\"AWS_PROFILE\"] = \"<YOUR_PROFILE>\"\n",
    "# os.environ[\"BEDROCK_ASSUME_ROLE\"] = \"<YOUR_ROLE_ARN>\"  # E.g. \"arn:aws:...\"\n",
    "\n",
    "boto3_bedrock = bedrock.get_bedrock_client(\n",
    "    assumed_role=os.environ.get(\"BEDROCK_ASSUME_ROLE\", None),\n",
    "    region=os.environ.get(\"AWS_DEFAULT_REGION\", None)\n",
    ")"
   ]
  },
  {
   "cell_type": "markdown",
   "id": "60c0294d-b72b-429c-84c6-52f6afe22b0a",
   "metadata": {},
   "source": [
    "### Raw Data Inspection"
   ]
  },
  {
   "cell_type": "code",
   "execution_count": 5,
   "id": "d5a399cd-9d1c-43b7-93a9-f7f0fd16d5f7",
   "metadata": {
    "tags": []
   },
   "outputs": [
    {
     "data": {
      "text/html": [
       "<div>\n",
       "<style scoped>\n",
       "    .dataframe tbody tr th:only-of-type {\n",
       "        vertical-align: middle;\n",
       "    }\n",
       "\n",
       "    .dataframe tbody tr th {\n",
       "        vertical-align: top;\n",
       "    }\n",
       "\n",
       "    .dataframe thead th {\n",
       "        text-align: right;\n",
       "    }\n",
       "</style>\n",
       "<table border=\"1\" class=\"dataframe\">\n",
       "  <thead>\n",
       "    <tr style=\"text-align: right;\">\n",
       "      <th></th>\n",
       "      <th>Symptom</th>\n",
       "      <th>故障分类</th>\n",
       "    </tr>\n",
       "  </thead>\n",
       "  <tbody>\n",
       "    <tr>\n",
       "      <th>0</th>\n",
       "      <td>\\n想知道装一个呼吸门控要多少钱。\\n</td>\n",
       "      <td>备件/商务咨询</td>\n",
       "    </tr>\n",
       "    <tr>\n",
       "      <th>1</th>\n",
       "      <td>\\n请告知如何将位于某城市某健康管理体检中心的设备移至某城市某医院。\\n</td>\n",
       "      <td>备件/商务咨询</td>\n",
       "    </tr>\n",
       "    <tr>\n",
       "      <th>2</th>\n",
       "      <td>\\n客户询问了某设备升级的相关事宜,希望能增加一个床的进出功能。\\n</td>\n",
       "      <td>备件/商务咨询</td>\n",
       "    </tr>\n",
       "    <tr>\n",
       "      <th>3</th>\n",
       "      <td>\\n报价需求,购买油箱一批。\\n</td>\n",
       "      <td>备件/商务咨询</td>\n",
       "    </tr>\n",
       "    <tr>\n",
       "      <th>4</th>\n",
       "      <td>\\n客户要安装UPS,想询问UPS的具体型号。\\n</td>\n",
       "      <td>备件/商务咨询</td>\n",
       "    </tr>\n",
       "    <tr>\n",
       "      <th>...</th>\n",
       "      <td>...</td>\n",
       "      <td>...</td>\n",
       "    </tr>\n",
       "    <tr>\n",
       "      <th>447</th>\n",
       "      <td>\\n硬件故障导致曝光模块失效,无法进行正常扫描。据判断故障部件可能是今年6月新换的硬件。\\n</td>\n",
       "      <td>球管/高压</td>\n",
       "    </tr>\n",
       "    <tr>\n",
       "      <th>448</th>\n",
       "      <td>\\n某医院某台CT扫描仪球管开放性管丝导致无法扫描,紧急程度高。\\n</td>\n",
       "      <td>球管/高压</td>\n",
       "    </tr>\n",
       "    <tr>\n",
       "      <th>449</th>\n",
       "      <td>\\n球馆里发出异响\\n</td>\n",
       "      <td>球管/高压</td>\n",
       "    </tr>\n",
       "    <tr>\n",
       "      <th>450</th>\n",
       "      <td>\\n预热功能无法使用的球管\\n</td>\n",
       "      <td>球管/高压</td>\n",
       "    </tr>\n",
       "    <tr>\n",
       "      <th>451</th>\n",
       "      <td>\\n管球报错\\n</td>\n",
       "      <td>球管/高压</td>\n",
       "    </tr>\n",
       "  </tbody>\n",
       "</table>\n",
       "<p>452 rows × 2 columns</p>\n",
       "</div>"
      ],
      "text/plain": [
       "                                            Symptom     故障分类\n",
       "0                               \\n想知道装一个呼吸门控要多少钱。\\n  备件/商务咨询\n",
       "1              \\n请告知如何将位于某城市某健康管理体检中心的设备移至某城市某医院。\\n  备件/商务咨询\n",
       "2                \\n客户询问了某设备升级的相关事宜,希望能增加一个床的进出功能。\\n  备件/商务咨询\n",
       "3                                  \\n报价需求,购买油箱一批。\\n  备件/商务咨询\n",
       "4                         \\n客户要安装UPS,想询问UPS的具体型号。\\n  备件/商务咨询\n",
       "..                                              ...      ...\n",
       "447  \\n硬件故障导致曝光模块失效,无法进行正常扫描。据判断故障部件可能是今年6月新换的硬件。\\n    球管/高压\n",
       "448              \\n某医院某台CT扫描仪球管开放性管丝导致无法扫描,紧急程度高。\\n    球管/高压\n",
       "449                                     \\n球馆里发出异响\\n    球管/高压\n",
       "450                                 \\n预热功能无法使用的球管\\n    球管/高压\n",
       "451                                        \\n管球报错\\n    球管/高压\n",
       "\n",
       "[452 rows x 2 columns]"
      ]
     },
     "execution_count": 5,
     "metadata": {},
     "output_type": "execute_result"
    }
   ],
   "source": [
    "# Inspect original dataset\n",
    "import pandas as pd\n",
    "voc_cx1_raw = pd.read_csv('lxq_voc_gen_.csv')\n",
    "voc_cx1_raw"
   ]
  },
  {
   "cell_type": "code",
   "execution_count": 6,
   "id": "09f84a61-342b-415a-8084-7ae28c9017af",
   "metadata": {
    "tags": []
   },
   "outputs": [
    {
     "data": {
      "text/html": [
       "<div>\n",
       "<style scoped>\n",
       "    .dataframe tbody tr th:only-of-type {\n",
       "        vertical-align: middle;\n",
       "    }\n",
       "\n",
       "    .dataframe tbody tr th {\n",
       "        vertical-align: top;\n",
       "    }\n",
       "\n",
       "    .dataframe thead tr th {\n",
       "        text-align: left;\n",
       "    }\n",
       "\n",
       "    .dataframe thead tr:last-of-type th {\n",
       "        text-align: right;\n",
       "    }\n",
       "</style>\n",
       "<table border=\"1\" class=\"dataframe\">\n",
       "  <thead>\n",
       "    <tr>\n",
       "      <th></th>\n",
       "      <th colspan=\"4\" halign=\"left\">Symptom</th>\n",
       "    </tr>\n",
       "    <tr>\n",
       "      <th></th>\n",
       "      <th>count</th>\n",
       "      <th>unique</th>\n",
       "      <th>top</th>\n",
       "      <th>freq</th>\n",
       "    </tr>\n",
       "    <tr>\n",
       "      <th>故障分类</th>\n",
       "      <th></th>\n",
       "      <th></th>\n",
       "      <th></th>\n",
       "      <th></th>\n",
       "    </tr>\n",
       "  </thead>\n",
       "  <tbody>\n",
       "    <tr>\n",
       "      <th>备件/商务咨询</th>\n",
       "      <td>24</td>\n",
       "      <td>24</td>\n",
       "      <td>\\n想知道装一个呼吸门控要多少钱。\\n</td>\n",
       "      <td>1</td>\n",
       "    </tr>\n",
       "    <tr>\n",
       "      <th>床</th>\n",
       "      <td>28</td>\n",
       "      <td>28</td>\n",
       "      <td>\\n扫描床仍无法移动,关机重启后出现E01错误\\n</td>\n",
       "      <td>1</td>\n",
       "    </tr>\n",
       "    <tr>\n",
       "      <th>扫描架</th>\n",
       "      <td>41</td>\n",
       "      <td>41</td>\n",
       "      <td>\\n部分硬件停止扫描,不能预热。驱动器电源被禁用\\n</td>\n",
       "      <td>1</td>\n",
       "    </tr>\n",
       "    <tr>\n",
       "      <th>扫描问题</th>\n",
       "      <td>166</td>\n",
       "      <td>166</td>\n",
       "      <td>\\n硬件上有错误\\n</td>\n",
       "      <td>1</td>\n",
       "    </tr>\n",
       "    <tr>\n",
       "      <th>探测器</th>\n",
       "      <td>18</td>\n",
       "      <td>18</td>\n",
       "      <td>\\n开机后探测器温度不足提示是由停电导致\\n</td>\n",
       "      <td>1</td>\n",
       "    </tr>\n",
       "    <tr>\n",
       "      <th>操作台</th>\n",
       "      <td>87</td>\n",
       "      <td>87</td>\n",
       "      <td>\\n服务器在断电后没有作出任何响应\\n</td>\n",
       "      <td>1</td>\n",
       "    </tr>\n",
       "    <tr>\n",
       "      <th>球管/高压</th>\n",
       "      <td>88</td>\n",
       "      <td>88</td>\n",
       "      <td>\\n球管故障引起球管损坏,紧急程度高。\\n</td>\n",
       "      <td>1</td>\n",
       "    </tr>\n",
       "  </tbody>\n",
       "</table>\n",
       "</div>"
      ],
      "text/plain": [
       "        Symptom                                        \n",
       "          count unique                         top freq\n",
       "故障分类                                                   \n",
       "备件/商务咨询      24     24         \\n想知道装一个呼吸门控要多少钱。\\n    1\n",
       "床            28     28   \\n扫描床仍无法移动,关机重启后出现E01错误\\n    1\n",
       "扫描架          41     41  \\n部分硬件停止扫描,不能预热。驱动器电源被禁用\\n    1\n",
       "扫描问题        166    166                  \\n硬件上有错误\\n    1\n",
       "探测器          18     18      \\n开机后探测器温度不足提示是由停电导致\\n    1\n",
       "操作台          87     87         \\n服务器在断电后没有作出任何响应\\n    1\n",
       "球管/高压        88     88       \\n球管故障引起球管损坏,紧急程度高。\\n    1"
      ]
     },
     "execution_count": 6,
     "metadata": {},
     "output_type": "execute_result"
    }
   ],
   "source": [
    "# inspect by different issue categories\n",
    "voc_cx1_raw.groupby('故障分类').describe()"
   ]
  },
  {
   "cell_type": "markdown",
   "id": "4e8796e7-2efb-4835-a44e-a5445a9c01c1",
   "metadata": {},
   "source": [
    "### Synthetic Data Generation - Compare Results from Different Instructions"
   ]
  },
  {
   "cell_type": "code",
   "execution_count": 7,
   "id": "5adeaa57-d9c5-4da1-85a9-de75685d63a1",
   "metadata": {
    "tags": []
   },
   "outputs": [],
   "source": [
    "# Set Up Claude Parameters\n",
    "from langchain.llms.bedrock import Bedrock\n",
    "\n",
    "inference_modifier = {'max_tokens_to_sample':4096, \n",
    "                      \"temperature\":1,\n",
    "                      \"top_k\":250,\n",
    "                      \"top_p\":1,\n",
    "                      \"stop_sequences\": [\"\\n\\nHuman\"]\n",
    "                     }\n",
    "\n",
    "textgen_llm = Bedrock(model_id = \"anthropic.claude-v2\",\n",
    "                    client = boto3_bedrock, \n",
    "                    model_kwargs = inference_modifier \n",
    "                    )"
   ]
  },
  {
   "cell_type": "code",
   "execution_count": 8,
   "id": "96c4396c-bfc1-4ab5-9823-d9963a2ffd33",
   "metadata": {
    "tags": []
   },
   "outputs": [],
   "source": [
    "# prompt for generating synthetic data\n",
    "## Base\n",
    "p_base = '''\n",
    "\\n\\nHuman:\n",
    "你是一个数据生成员. 你的目标是按照<instructions>改写给定客服问题描述<example>.\n",
    "\n",
    "重写要求<instructions>\n",
    "1，每次生成5个不同的客服问题描述改写\n",
    "2，改写后的描述含义不能变，不要增加额外的信息，不要添油加醋，不要发挥想象\n",
    "3，改写包括语序改变，换词\n",
    "4，改写前后描述的长短要相似\n",
    "</instructions>\n",
    "\n",
    "<examples>\n",
    "扫描卡顿  机架操作盘联系不上 不能扫描了\n",
    "</examples>\n",
    "\n",
    "\\n\\nAssistant:\n",
    "'''\n",
    "\n",
    "## Now assume a customer that's upset and impatient \n",
    "p_upset = '''\n",
    "\\n\\nHuman:\n",
    "你是一个数据生成员. 你的目标是按照<instructions>改写给定客服问题描述<example>.\n",
    "\n",
    "重写要求<instructions>\n",
    "1，每次生成5个不同的客服问题描述改写\n",
    "2，改写后的描述含义不能变，不要增加额外的信息，不要添油加醋，不要发挥想象\n",
    "3，改写包括语序改变，换词\n",
    "4，改写前后描述的长短要相似\n",
    "5，改写包括语序改变，措辞改变，增加语气词, 让语气更急躁\n",
    "</instructions>\n",
    "\n",
    "<examples>\n",
    "扫描卡顿  机架操作盘联系不上 不能扫描了\n",
    "</examples>\n",
    "\n",
    "\\n\\nAssistant:\n",
    "'''\n",
    "\n",
    "## Now assume a customer that's chatty and confused\n",
    "p_chatty = '''\n",
    "\\n\\nHuman:\n",
    "你是一个数据生成员. 你的目标是按照<instructions>改写给定客服问题描述<example>.\n",
    "\n",
    "重写要求<instructions>\n",
    "1，每次生成5个不同的客服问题描述改写\n",
    "2，改写后的描述含义不能变，不要增加额外的信息，不要添油加醋，不要发挥想象\n",
    "3，改写包括语序改变，换词\n",
    "4，改写前后描述的长短要相似\n",
    "5，改写包括语序改变，措辞改变，增加语气词，说话更啰嗦\n",
    "</instructions>\n",
    "\n",
    "<examples>\n",
    "扫描卡顿  机架操作盘联系不上 不能扫描了\n",
    "</examples>\n",
    "\n",
    "\\n\\nAssistant:\n",
    "'''\n",
    "\n",
    "## Now try translating the data into other languages.  This is specially useful when the Cx has insufficient data when localizing.\n",
    "p_translate = '''\n",
    "\\n\\nHuman:\n",
    "你是一个数据生成员. 你的目标是按照<instructions>改写给定客服问题描述<example>.\n",
    "\n",
    "重写要求<instructions>\n",
    "1，每次生成12个不同的客服问题描述改写,3个英文，3个符合中国大陆语言习惯，3个符合台湾语言习惯，3个符合香港语言习惯\n",
    "2，改写后的描述含义不能变，不要增加额外的信息，不要添油加醋，不要发挥想象\n",
    "3，改写包括语序改变，换词\n",
    "4，改写前后描述的长短要相似\n",
    "</instructions>\n",
    "\n",
    "<examples>\n",
    "扫描卡顿  机架操作盘联系不上 不能扫描了\n",
    "</examples>\n",
    "\n",
    "\\n\\nAssistant:\n",
    "'''"
   ]
  },
  {
   "cell_type": "code",
   "execution_count": 9,
   "id": "51d402f7-5bdd-4c41-a519-599a7ff8cb1b",
   "metadata": {
    "tags": []
   },
   "outputs": [],
   "source": [
    "# calculate your LLM execution time\n",
    "import time\n",
    "\n",
    "def timer_llm(prompt, if_print=1):\n",
    "    start_time = time.time()\n",
    "    response = textgen_llm(prompt)\n",
    "    end_time = time.time()\n",
    "    elapsed_time = end_time - start_time\n",
    "    if if_print == 1:\n",
    "        print(\"----------------------------------------- OutPut -----------------------------------------\")\n",
    "        print(\"Elapsed time: \", elapsed_time, \"seconds\")\n",
    "    return response"
   ]
  },
  {
   "cell_type": "code",
   "execution_count": 10,
   "id": "a6dc0589-148e-4238-8817-fde35739b744",
   "metadata": {
    "tags": []
   },
   "outputs": [
    {
     "name": "stdout",
     "output_type": "stream",
     "text": [
      "----------------------------------------- OutPut -----------------------------------------\n",
      "Elapsed time:  7.855525732040405 seconds\n",
      "\n",
      "1. 扫描不了了,操作盘接触不上,卡住扫描流程\n",
      "\n",
      "2. 操作盘突然失联,导致扫描过程出现卡顿,无法继续扫描\n",
      "\n",
      "3. 扫描过程突然卡住不动了,找不到操作盘的反应,扫描功能失效\n",
      "\n",
      "4. 扫描功能失灵,操作盘联络失败,整个扫描过程异常中断\n",
      "\n",
      "5. 不能继续扫描了,操作盘突然失去联系,使扫描过程陷入了卡顿\n",
      "----------------------------------------- OutPut -----------------------------------------\n",
      "Elapsed time:  8.585693836212158 seconds\n",
      "\n",
      "1. 扫描卡顿,机架操作盘完全不能联系上了,现在扫描都扫不了了!\n",
      "\n",
      "2. 我这边扫描突然就开始卡顿了,机架操作盘也联系不上,扫描功能直接就没法用了。\n",
      "\n",
      "3. 扫描功能突然失灵,联系不上机架操作盘,现在完全没法进行扫描操作了!\n",
      "\n",
      "4. 扫描开始卡住不动了,机架操作盘也打不开,扫描功能直接失效了啊!\n",
      "\n",
      "5. 扫描完全停止响应,机架操作盘也打不开了,现在扫描都不能进行了!\n",
      "----------------------------------------- OutPut -----------------------------------------\n",
      "Elapsed time:  9.546398401260376 seconds\n",
      "\n",
      "1. 扫描这个功能卡顿了,联系不上机架操作盘,导致现在完全扫不了东西。\n",
      "\n",
      "2. 扫描功能在使用的时候总是卡顿,机架操作盘也联系不上,结果使得扫描功能现在完全无法使用。\n",
      "\n",
      "3. 使用扫描时老是卡卡顿顿的,机架操作盘也打不开了,说白了就是扫描功能现在完全没法正常工作了。\n",
      "\n",
      "4. 我在用扫描的时候它经常卡住,而且机架操作盘也连不上,这样扫描就完全无法进行了。\n",
      "\n",
      "5. 扫描的时候会非常地卡,机架操作盘也连不上它,导致现在扫描功能直接就不能用了。\n",
      "----------------------------------------- OutPut -----------------------------------------\n",
      "Elapsed time:  29.527812242507935 seconds\n",
      "\n",
      "英文:\n",
      "1. Scanning is sluggish. The scanner is unresponsive. Scanning is not working.\n",
      "2. The scanner is lagging. The rack control panel is unreachable. Scanning is halted.\n",
      "3. Scanning has slowed. The rack interface is inaccessible. Scanning is disabled.\n",
      "\n",
      "大陆习惯:\n",
      "1. 扫描变慢了。操作盘接不上了。不能扫描了。\n",
      "2. 扫描卡顿了。机架操作盘连不上。扫描无法进行。\n",
      "3. 扫描变迟缓了。机架操作界面接触不到了。扫描被禁用了。\n",
      "\n",
      "台湾习惯:\n",
      "1. 掃描變慢了。操作盤連不上了。不能掃描了。\n",
      "2. 掃描卡頓了。機架操作盤連不上。掃描無法進行。\n",
      "3. 掃描變遲緩了。機架操作界面接觸不到了。掃描被禁用了。\n",
      "\n",
      "香港习惯:\n",
      "1. 掃描變慢咗。操作盤接唔上咗。扫描唔掂咗。\n",
      "2. 掃描卡頓咗。機架操作盤連唔上。掃描無法進行。\n",
      "3. 掃描變遲緩咗。機架操作界面接觸唔到咗。掃描被禁用咗。\n"
     ]
    }
   ],
   "source": [
    "# Compare Results\n",
    "import time\n",
    "\n",
    "# p_base\n",
    "response = timer_llm(p_base)\n",
    "result = response[response.index('\\n')+1:]\n",
    "print_ww(result)\n",
    "\n",
    "# p_upset\n",
    "response = timer_llm(p_upset)\n",
    "result = response[response.index('\\n')+1:]\n",
    "print_ww(result)\n",
    "\n",
    "# p_chatty\n",
    "response = timer_llm(p_chatty)\n",
    "result = response[response.index('\\n')+1:]\n",
    "print_ww(result)\n",
    "\n",
    "# p_translate\n",
    "response = timer_llm(p_translate)\n",
    "result = response[response.index('\\n')+1:]\n",
    "print_ww(result)"
   ]
  },
  {
   "cell_type": "markdown",
   "id": "66f42b69-518b-44fa-a22c-e403f9179b06",
   "metadata": {},
   "source": [
    "### Synthetic Data Generation - Batch Generation"
   ]
  },
  {
   "cell_type": "code",
   "execution_count": null,
   "id": "b861fc3b-304c-42e4-b8ab-953f74c16153",
   "metadata": {
    "tags": []
   },
   "outputs": [],
   "source": [
    "# batch generation\n",
    "## sample 15% observations from each issue category \n",
    "sample_df = voc_cx1_raw.groupby(\"故障分类\").sample(frac = 0.15, random_state=1)\n",
    "sample_df.groupby('故障分类').count()"
   ]
  },
  {
   "cell_type": "code",
   "execution_count": null,
   "id": "b185f97b-f866-4f4c-bd9e-86c3eb1885e9",
   "metadata": {},
   "outputs": [],
   "source": [
    "## prompt for batch generation\n",
    "# below is an example\n",
    "p_batch_gen_example = '''\n",
    "\\n\\nHuman:\n",
    "你是一个数据生成员. 你的目标是按照<instructions>改写给定客服问题描述<example>,并按照<output_format>要求输出。\n",
    "\n",
    "重写要求<instructions>\n",
    "1，每次生成5个不同的客服问题描述改写\n",
    "2，改写后的描述含义不能变，不要增加额外的信息，不要添油加醋，不要发挥想象\n",
    "3，改写包括语序改变，换词\n",
    "4，改写前后描述的长短要相似\n",
    "5，如果原描述中有任何pii敏感信息，请用“某先生，某女士，某公司，某电话，某城市”等代替\n",
    "6，综合上述要评估生成结果，选择最符合上述要求的一条写入<best>\n",
    "</instructions>\n",
    "\n",
    "<examples>\n",
    "{input_data}\n",
    "</examples>\n",
    "\n",
    "<output_format>\n",
    "五个备选：\n",
    "<best>\n",
    "</best>\n",
    "</output_format>\n",
    "\n",
    "\\n\\nAssistant:\\n\n",
    "'''"
   ]
  },
  {
   "cell_type": "markdown",
   "id": "bb61ec6f-8b87-4fc3-a813-2bd36b614567",
   "metadata": {},
   "source": [
    "#### Now write your own prompt <br>\n",
    "\n",
    "<b>Requirements: </b><br>\n",
    "You want to generate several re-writes and choose the best one, and write into \"\\<best>\\</best>\" tags"
   ]
  },
  {
   "cell_type": "code",
   "execution_count": null,
   "id": "ca0764c8-62db-454e-9600-7ff9734c1b0f",
   "metadata": {},
   "outputs": [],
   "source": [
    "p_batch_gen = '''\n",
    "\\n\\nHuman:\n",
    "你是一个数据生成员. 你的目标是按照<instructions>改写给定客服问题描述<example>,并按照<output_format>要求输出。\n",
    "\n",
    "重写要求<instructions>\n",
    "{{WRITE YOUR OWN INSTRUCTIONS}}\n",
    "</instructions>\n",
    "\n",
    "<examples>\n",
    "{{PLACEHOLDER FOR INPUT EXAMPLES}}\n",
    "</examples>\n",
    "\n",
    "<output_format>\n",
    "{{REQUIREMENTS/EXAMPLES FOR OUTPUT FORMAT}}\n",
    "</output_format>\n",
    "\n",
    "\\n\\nAssistant:\\n\n",
    "'''\n",
    "\n",
    "## generate synthetic data from the sample\n",
    "syn_data = sample_df.copy()\n",
    "for i in range(sample_df.shape[0]):\n",
    "    symptom = sample_df.iloc[i][0]\n",
    "    prompt = p_batch_gen.format(input_data = symptom)\n",
    "    response = timer_llm(prompt, 0)\n",
    "    result_details = response[response.index('\\n')+1:]\n",
    "    if '<best>' in result_details and '</best>' in result_details:\n",
    "        result_best = result_details[result_details.index('<best>')+6:result_details.index('</best>')]\n",
    "    else:\n",
    "        result_best = 'No <best> found'\n",
    "    syn_data.iloc[i][0] = result_best\n",
    "    #print_ww(result_details)\n",
    "    #print(\"Given Sample: \", symptom)\n",
    "    #print(\"Best Generated Sample: \", result_best)"
   ]
  },
  {
   "cell_type": "markdown",
   "id": "de8ebe11-31c8-42c9-8df8-f499b71928fd",
   "metadata": {},
   "source": [
    "### Save the Generated Data"
   ]
  },
  {
   "cell_type": "code",
   "execution_count": null,
   "id": "8e0bb6c1-7aa7-4248-a893-e5376a686e5f",
   "metadata": {},
   "outputs": [],
   "source": [
    "# adjust your output file name, for example: heather_voc_gen_.csv\n",
    "syn_data.to_csv('REPLACE_YOUR_NAME_HERE_voc_gen.csv',index = False)"
   ]
  },
  {
   "cell_type": "markdown",
   "id": "8cd8b455-fd74-4373-9a2f-4dc1a00805d7",
   "metadata": {},
   "source": [
    "# <font color=red>Assignment: Save the Generated Data and Upload it to the WorkDoc<font color=red>"
   ]
  },
  {
   "cell_type": "markdown",
   "id": "d6287c3b-6f2a-4ec3-b9f2-4f4f74c1b819",
   "metadata": {},
   "source": [
    "https://amazon.awsapps.com/workdocs-preview/index.html#/folder/f573754f5bdde41d63543d02eb277bee333e322238ad051755a02e050b8513ce"
   ]
  },
  {
   "cell_type": "code",
   "execution_count": null,
   "id": "ded4cefb-3e2b-49c5-8e3c-24d4abc06ea2",
   "metadata": {},
   "outputs": [],
   "source": []
  }
 ],
 "metadata": {
  "availableInstances": [
   {
    "_defaultOrder": 0,
    "_isFastLaunch": true,
    "category": "General purpose",
    "gpuNum": 0,
    "hideHardwareSpecs": false,
    "memoryGiB": 4,
    "name": "ml.t3.medium",
    "vcpuNum": 2
   },
   {
    "_defaultOrder": 1,
    "_isFastLaunch": false,
    "category": "General purpose",
    "gpuNum": 0,
    "hideHardwareSpecs": false,
    "memoryGiB": 8,
    "name": "ml.t3.large",
    "vcpuNum": 2
   },
   {
    "_defaultOrder": 2,
    "_isFastLaunch": false,
    "category": "General purpose",
    "gpuNum": 0,
    "hideHardwareSpecs": false,
    "memoryGiB": 16,
    "name": "ml.t3.xlarge",
    "vcpuNum": 4
   },
   {
    "_defaultOrder": 3,
    "_isFastLaunch": false,
    "category": "General purpose",
    "gpuNum": 0,
    "hideHardwareSpecs": false,
    "memoryGiB": 32,
    "name": "ml.t3.2xlarge",
    "vcpuNum": 8
   },
   {
    "_defaultOrder": 4,
    "_isFastLaunch": true,
    "category": "General purpose",
    "gpuNum": 0,
    "hideHardwareSpecs": false,
    "memoryGiB": 8,
    "name": "ml.m5.large",
    "vcpuNum": 2
   },
   {
    "_defaultOrder": 5,
    "_isFastLaunch": false,
    "category": "General purpose",
    "gpuNum": 0,
    "hideHardwareSpecs": false,
    "memoryGiB": 16,
    "name": "ml.m5.xlarge",
    "vcpuNum": 4
   },
   {
    "_defaultOrder": 6,
    "_isFastLaunch": false,
    "category": "General purpose",
    "gpuNum": 0,
    "hideHardwareSpecs": false,
    "memoryGiB": 32,
    "name": "ml.m5.2xlarge",
    "vcpuNum": 8
   },
   {
    "_defaultOrder": 7,
    "_isFastLaunch": false,
    "category": "General purpose",
    "gpuNum": 0,
    "hideHardwareSpecs": false,
    "memoryGiB": 64,
    "name": "ml.m5.4xlarge",
    "vcpuNum": 16
   },
   {
    "_defaultOrder": 8,
    "_isFastLaunch": false,
    "category": "General purpose",
    "gpuNum": 0,
    "hideHardwareSpecs": false,
    "memoryGiB": 128,
    "name": "ml.m5.8xlarge",
    "vcpuNum": 32
   },
   {
    "_defaultOrder": 9,
    "_isFastLaunch": false,
    "category": "General purpose",
    "gpuNum": 0,
    "hideHardwareSpecs": false,
    "memoryGiB": 192,
    "name": "ml.m5.12xlarge",
    "vcpuNum": 48
   },
   {
    "_defaultOrder": 10,
    "_isFastLaunch": false,
    "category": "General purpose",
    "gpuNum": 0,
    "hideHardwareSpecs": false,
    "memoryGiB": 256,
    "name": "ml.m5.16xlarge",
    "vcpuNum": 64
   },
   {
    "_defaultOrder": 11,
    "_isFastLaunch": false,
    "category": "General purpose",
    "gpuNum": 0,
    "hideHardwareSpecs": false,
    "memoryGiB": 384,
    "name": "ml.m5.24xlarge",
    "vcpuNum": 96
   },
   {
    "_defaultOrder": 12,
    "_isFastLaunch": false,
    "category": "General purpose",
    "gpuNum": 0,
    "hideHardwareSpecs": false,
    "memoryGiB": 8,
    "name": "ml.m5d.large",
    "vcpuNum": 2
   },
   {
    "_defaultOrder": 13,
    "_isFastLaunch": false,
    "category": "General purpose",
    "gpuNum": 0,
    "hideHardwareSpecs": false,
    "memoryGiB": 16,
    "name": "ml.m5d.xlarge",
    "vcpuNum": 4
   },
   {
    "_defaultOrder": 14,
    "_isFastLaunch": false,
    "category": "General purpose",
    "gpuNum": 0,
    "hideHardwareSpecs": false,
    "memoryGiB": 32,
    "name": "ml.m5d.2xlarge",
    "vcpuNum": 8
   },
   {
    "_defaultOrder": 15,
    "_isFastLaunch": false,
    "category": "General purpose",
    "gpuNum": 0,
    "hideHardwareSpecs": false,
    "memoryGiB": 64,
    "name": "ml.m5d.4xlarge",
    "vcpuNum": 16
   },
   {
    "_defaultOrder": 16,
    "_isFastLaunch": false,
    "category": "General purpose",
    "gpuNum": 0,
    "hideHardwareSpecs": false,
    "memoryGiB": 128,
    "name": "ml.m5d.8xlarge",
    "vcpuNum": 32
   },
   {
    "_defaultOrder": 17,
    "_isFastLaunch": false,
    "category": "General purpose",
    "gpuNum": 0,
    "hideHardwareSpecs": false,
    "memoryGiB": 192,
    "name": "ml.m5d.12xlarge",
    "vcpuNum": 48
   },
   {
    "_defaultOrder": 18,
    "_isFastLaunch": false,
    "category": "General purpose",
    "gpuNum": 0,
    "hideHardwareSpecs": false,
    "memoryGiB": 256,
    "name": "ml.m5d.16xlarge",
    "vcpuNum": 64
   },
   {
    "_defaultOrder": 19,
    "_isFastLaunch": false,
    "category": "General purpose",
    "gpuNum": 0,
    "hideHardwareSpecs": false,
    "memoryGiB": 384,
    "name": "ml.m5d.24xlarge",
    "vcpuNum": 96
   },
   {
    "_defaultOrder": 20,
    "_isFastLaunch": false,
    "category": "General purpose",
    "gpuNum": 0,
    "hideHardwareSpecs": true,
    "memoryGiB": 0,
    "name": "ml.geospatial.interactive",
    "supportedImageNames": [
     "sagemaker-geospatial-v1-0"
    ],
    "vcpuNum": 0
   },
   {
    "_defaultOrder": 21,
    "_isFastLaunch": true,
    "category": "Compute optimized",
    "gpuNum": 0,
    "hideHardwareSpecs": false,
    "memoryGiB": 4,
    "name": "ml.c5.large",
    "vcpuNum": 2
   },
   {
    "_defaultOrder": 22,
    "_isFastLaunch": false,
    "category": "Compute optimized",
    "gpuNum": 0,
    "hideHardwareSpecs": false,
    "memoryGiB": 8,
    "name": "ml.c5.xlarge",
    "vcpuNum": 4
   },
   {
    "_defaultOrder": 23,
    "_isFastLaunch": false,
    "category": "Compute optimized",
    "gpuNum": 0,
    "hideHardwareSpecs": false,
    "memoryGiB": 16,
    "name": "ml.c5.2xlarge",
    "vcpuNum": 8
   },
   {
    "_defaultOrder": 24,
    "_isFastLaunch": false,
    "category": "Compute optimized",
    "gpuNum": 0,
    "hideHardwareSpecs": false,
    "memoryGiB": 32,
    "name": "ml.c5.4xlarge",
    "vcpuNum": 16
   },
   {
    "_defaultOrder": 25,
    "_isFastLaunch": false,
    "category": "Compute optimized",
    "gpuNum": 0,
    "hideHardwareSpecs": false,
    "memoryGiB": 72,
    "name": "ml.c5.9xlarge",
    "vcpuNum": 36
   },
   {
    "_defaultOrder": 26,
    "_isFastLaunch": false,
    "category": "Compute optimized",
    "gpuNum": 0,
    "hideHardwareSpecs": false,
    "memoryGiB": 96,
    "name": "ml.c5.12xlarge",
    "vcpuNum": 48
   },
   {
    "_defaultOrder": 27,
    "_isFastLaunch": false,
    "category": "Compute optimized",
    "gpuNum": 0,
    "hideHardwareSpecs": false,
    "memoryGiB": 144,
    "name": "ml.c5.18xlarge",
    "vcpuNum": 72
   },
   {
    "_defaultOrder": 28,
    "_isFastLaunch": false,
    "category": "Compute optimized",
    "gpuNum": 0,
    "hideHardwareSpecs": false,
    "memoryGiB": 192,
    "name": "ml.c5.24xlarge",
    "vcpuNum": 96
   },
   {
    "_defaultOrder": 29,
    "_isFastLaunch": true,
    "category": "Accelerated computing",
    "gpuNum": 1,
    "hideHardwareSpecs": false,
    "memoryGiB": 16,
    "name": "ml.g4dn.xlarge",
    "vcpuNum": 4
   },
   {
    "_defaultOrder": 30,
    "_isFastLaunch": false,
    "category": "Accelerated computing",
    "gpuNum": 1,
    "hideHardwareSpecs": false,
    "memoryGiB": 32,
    "name": "ml.g4dn.2xlarge",
    "vcpuNum": 8
   },
   {
    "_defaultOrder": 31,
    "_isFastLaunch": false,
    "category": "Accelerated computing",
    "gpuNum": 1,
    "hideHardwareSpecs": false,
    "memoryGiB": 64,
    "name": "ml.g4dn.4xlarge",
    "vcpuNum": 16
   },
   {
    "_defaultOrder": 32,
    "_isFastLaunch": false,
    "category": "Accelerated computing",
    "gpuNum": 1,
    "hideHardwareSpecs": false,
    "memoryGiB": 128,
    "name": "ml.g4dn.8xlarge",
    "vcpuNum": 32
   },
   {
    "_defaultOrder": 33,
    "_isFastLaunch": false,
    "category": "Accelerated computing",
    "gpuNum": 4,
    "hideHardwareSpecs": false,
    "memoryGiB": 192,
    "name": "ml.g4dn.12xlarge",
    "vcpuNum": 48
   },
   {
    "_defaultOrder": 34,
    "_isFastLaunch": false,
    "category": "Accelerated computing",
    "gpuNum": 1,
    "hideHardwareSpecs": false,
    "memoryGiB": 256,
    "name": "ml.g4dn.16xlarge",
    "vcpuNum": 64
   },
   {
    "_defaultOrder": 35,
    "_isFastLaunch": false,
    "category": "Accelerated computing",
    "gpuNum": 1,
    "hideHardwareSpecs": false,
    "memoryGiB": 61,
    "name": "ml.p3.2xlarge",
    "vcpuNum": 8
   },
   {
    "_defaultOrder": 36,
    "_isFastLaunch": false,
    "category": "Accelerated computing",
    "gpuNum": 4,
    "hideHardwareSpecs": false,
    "memoryGiB": 244,
    "name": "ml.p3.8xlarge",
    "vcpuNum": 32
   },
   {
    "_defaultOrder": 37,
    "_isFastLaunch": false,
    "category": "Accelerated computing",
    "gpuNum": 8,
    "hideHardwareSpecs": false,
    "memoryGiB": 488,
    "name": "ml.p3.16xlarge",
    "vcpuNum": 64
   },
   {
    "_defaultOrder": 38,
    "_isFastLaunch": false,
    "category": "Accelerated computing",
    "gpuNum": 8,
    "hideHardwareSpecs": false,
    "memoryGiB": 768,
    "name": "ml.p3dn.24xlarge",
    "vcpuNum": 96
   },
   {
    "_defaultOrder": 39,
    "_isFastLaunch": false,
    "category": "Memory Optimized",
    "gpuNum": 0,
    "hideHardwareSpecs": false,
    "memoryGiB": 16,
    "name": "ml.r5.large",
    "vcpuNum": 2
   },
   {
    "_defaultOrder": 40,
    "_isFastLaunch": false,
    "category": "Memory Optimized",
    "gpuNum": 0,
    "hideHardwareSpecs": false,
    "memoryGiB": 32,
    "name": "ml.r5.xlarge",
    "vcpuNum": 4
   },
   {
    "_defaultOrder": 41,
    "_isFastLaunch": false,
    "category": "Memory Optimized",
    "gpuNum": 0,
    "hideHardwareSpecs": false,
    "memoryGiB": 64,
    "name": "ml.r5.2xlarge",
    "vcpuNum": 8
   },
   {
    "_defaultOrder": 42,
    "_isFastLaunch": false,
    "category": "Memory Optimized",
    "gpuNum": 0,
    "hideHardwareSpecs": false,
    "memoryGiB": 128,
    "name": "ml.r5.4xlarge",
    "vcpuNum": 16
   },
   {
    "_defaultOrder": 43,
    "_isFastLaunch": false,
    "category": "Memory Optimized",
    "gpuNum": 0,
    "hideHardwareSpecs": false,
    "memoryGiB": 256,
    "name": "ml.r5.8xlarge",
    "vcpuNum": 32
   },
   {
    "_defaultOrder": 44,
    "_isFastLaunch": false,
    "category": "Memory Optimized",
    "gpuNum": 0,
    "hideHardwareSpecs": false,
    "memoryGiB": 384,
    "name": "ml.r5.12xlarge",
    "vcpuNum": 48
   },
   {
    "_defaultOrder": 45,
    "_isFastLaunch": false,
    "category": "Memory Optimized",
    "gpuNum": 0,
    "hideHardwareSpecs": false,
    "memoryGiB": 512,
    "name": "ml.r5.16xlarge",
    "vcpuNum": 64
   },
   {
    "_defaultOrder": 46,
    "_isFastLaunch": false,
    "category": "Memory Optimized",
    "gpuNum": 0,
    "hideHardwareSpecs": false,
    "memoryGiB": 768,
    "name": "ml.r5.24xlarge",
    "vcpuNum": 96
   },
   {
    "_defaultOrder": 47,
    "_isFastLaunch": false,
    "category": "Accelerated computing",
    "gpuNum": 1,
    "hideHardwareSpecs": false,
    "memoryGiB": 16,
    "name": "ml.g5.xlarge",
    "vcpuNum": 4
   },
   {
    "_defaultOrder": 48,
    "_isFastLaunch": false,
    "category": "Accelerated computing",
    "gpuNum": 1,
    "hideHardwareSpecs": false,
    "memoryGiB": 32,
    "name": "ml.g5.2xlarge",
    "vcpuNum": 8
   },
   {
    "_defaultOrder": 49,
    "_isFastLaunch": false,
    "category": "Accelerated computing",
    "gpuNum": 1,
    "hideHardwareSpecs": false,
    "memoryGiB": 64,
    "name": "ml.g5.4xlarge",
    "vcpuNum": 16
   },
   {
    "_defaultOrder": 50,
    "_isFastLaunch": false,
    "category": "Accelerated computing",
    "gpuNum": 1,
    "hideHardwareSpecs": false,
    "memoryGiB": 128,
    "name": "ml.g5.8xlarge",
    "vcpuNum": 32
   },
   {
    "_defaultOrder": 51,
    "_isFastLaunch": false,
    "category": "Accelerated computing",
    "gpuNum": 1,
    "hideHardwareSpecs": false,
    "memoryGiB": 256,
    "name": "ml.g5.16xlarge",
    "vcpuNum": 64
   },
   {
    "_defaultOrder": 52,
    "_isFastLaunch": false,
    "category": "Accelerated computing",
    "gpuNum": 4,
    "hideHardwareSpecs": false,
    "memoryGiB": 192,
    "name": "ml.g5.12xlarge",
    "vcpuNum": 48
   },
   {
    "_defaultOrder": 53,
    "_isFastLaunch": false,
    "category": "Accelerated computing",
    "gpuNum": 4,
    "hideHardwareSpecs": false,
    "memoryGiB": 384,
    "name": "ml.g5.24xlarge",
    "vcpuNum": 96
   },
   {
    "_defaultOrder": 54,
    "_isFastLaunch": false,
    "category": "Accelerated computing",
    "gpuNum": 8,
    "hideHardwareSpecs": false,
    "memoryGiB": 768,
    "name": "ml.g5.48xlarge",
    "vcpuNum": 192
   },
   {
    "_defaultOrder": 55,
    "_isFastLaunch": false,
    "category": "Accelerated computing",
    "gpuNum": 8,
    "hideHardwareSpecs": false,
    "memoryGiB": 1152,
    "name": "ml.p4d.24xlarge",
    "vcpuNum": 96
   },
   {
    "_defaultOrder": 56,
    "_isFastLaunch": false,
    "category": "Accelerated computing",
    "gpuNum": 8,
    "hideHardwareSpecs": false,
    "memoryGiB": 1152,
    "name": "ml.p4de.24xlarge",
    "vcpuNum": 96
   }
  ],
  "instance_type": "ml.t3.medium",
  "kernelspec": {
   "display_name": "Python 3 (Data Science 3.0)",
   "language": "python",
   "name": "python3__SAGEMAKER_INTERNAL__arn:aws:sagemaker:us-east-1:081325390199:image/sagemaker-data-science-310-v1"
  },
  "language_info": {
   "codemirror_mode": {
    "name": "ipython",
    "version": 3
   },
   "file_extension": ".py",
   "mimetype": "text/x-python",
   "name": "python",
   "nbconvert_exporter": "python",
   "pygments_lexer": "ipython3",
   "version": "3.10.6"
  }
 },
 "nbformat": 4,
 "nbformat_minor": 5
}
