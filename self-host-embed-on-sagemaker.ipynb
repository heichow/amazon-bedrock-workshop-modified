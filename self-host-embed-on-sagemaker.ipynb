{
 "cells": [
  {
   "cell_type": "markdown",
   "id": "c177256c-c572-4220-9312-96ea73c10a11",
   "metadata": {},
   "source": [
    "# Self-Hosting Embedding Model on SageMaker"
   ]
  },
  {
   "cell_type": "markdown",
   "id": "902ba165-3669-4f61-88e5-14424ca2839d",
   "metadata": {},
   "source": [
    "Hugging Face Embedding Leaderboard: https://huggingface.co/spaces/mteb/leaderboard"
   ]
  },
  {
   "cell_type": "code",
   "execution_count": 17,
   "id": "42d06eac-3a81-4092-ad3f-805a2aba22f5",
   "metadata": {
    "tags": []
   },
   "outputs": [
    {
     "name": "stdout",
     "output_type": "stream",
     "text": [
      "Input Hugging Face Model ID\n",
      "---------------------------\n",
      "Example: sentence-transformers/all-MiniLM-L6-v2\n",
      "https://huggingface.co/models?library=sentence-transformers\n",
      "\n"
     ]
    },
    {
     "name": "stdin",
     "output_type": "stream",
     "text": [
      " sentence-transformers/all-MiniLM-L6-v2\n"
     ]
    },
    {
     "name": "stdout",
     "output_type": "stream",
     "text": [
      "\n",
      "HF_MODEL_ID = sentence-transformers/all-MiniLM-L6-v2\n"
     ]
    }
   ],
   "source": [
    "print(\"Input Hugging Face Model ID\")\n",
    "print(\"---------------------------\")\n",
    "print(\"Example: sentence-transformers/all-MiniLM-L6-v2\")\n",
    "print(\"https://huggingface.co/models?library=sentence-transformers\")\n",
    "print(\"\")\n",
    "HF_MODEL_ID = input()\n",
    "print(\"\")\n",
    "print(f\"HF_MODEL_ID = {HF_MODEL_ID}\")"
   ]
  },
  {
   "cell_type": "markdown",
   "id": "9905d6ae-bc39-4e4c-b8a9-9e39e3761aec",
   "metadata": {
    "tags": []
   },
   "source": [
    "## Prerequisites"
   ]
  },
  {
   "cell_type": "markdown",
   "id": "6a16b62d-0a5a-4f36-9f8d-18894cf82f48",
   "metadata": {
    "tags": []
   },
   "source": [
    "### Set up\n",
    "\n",
    "---\n",
    "We begin by installing and upgrading necessary packages. Restart the kernel after executing the cell below for the first time.\n",
    "\n",
    "---"
   ]
  },
  {
   "cell_type": "code",
   "execution_count": 3,
   "id": "211dec43-d259-4032-b7bb-f038d32c3b33",
   "metadata": {
    "tags": []
   },
   "outputs": [
    {
     "name": "stdout",
     "output_type": "stream",
     "text": [
      "\u001b[33mWARNING: Running pip as the 'root' user can result in broken permissions and conflicting behaviour with the system package manager. It is recommended to use a virtual environment instead: https://pip.pypa.io/warnings/venv\u001b[0m\u001b[33m\n",
      "\u001b[0m\n",
      "\u001b[1m[\u001b[0m\u001b[34;49mnotice\u001b[0m\u001b[1;39;49m]\u001b[0m\u001b[39;49m A new release of pip is available: \u001b[0m\u001b[31;49m23.1.2\u001b[0m\u001b[39;49m -> \u001b[0m\u001b[32;49m23.3.1\u001b[0m\n",
      "\u001b[1m[\u001b[0m\u001b[34;49mnotice\u001b[0m\u001b[1;39;49m]\u001b[0m\u001b[39;49m To update, run: \u001b[0m\u001b[32;49mpip install --upgrade pip\u001b[0m\n"
     ]
    }
   ],
   "source": [
    "!pip install -Uq sagemaker transformers langchain"
   ]
  },
  {
   "cell_type": "code",
   "execution_count": 4,
   "id": "fc041dbb-c3a0-4df1-af79-482f5664e73e",
   "metadata": {
    "tags": []
   },
   "outputs": [
    {
     "data": {
      "text/html": [
       "<script>Jupyter.notebook.kernel.restart()</script>"
      ],
      "text/plain": [
       "<IPython.core.display.HTML object>"
      ]
     },
     "execution_count": 4,
     "metadata": {},
     "output_type": "execute_result"
    }
   ],
   "source": [
    "### restart kernel\n",
    "from IPython.core.display import HTML\n",
    "HTML(\"<script>Jupyter.notebook.kernel.restart()</script>\")"
   ]
  },
  {
   "cell_type": "code",
   "execution_count": 6,
   "id": "b7d130b8-5ddf-4fd9-843a-9c719c3cfe61",
   "metadata": {
    "tags": []
   },
   "outputs": [
    {
     "name": "stdout",
     "output_type": "stream",
     "text": [
      "sagemaker.config INFO - Not applying SDK defaults from location: /etc/xdg/sagemaker/config.yaml\n",
      "sagemaker.config INFO - Not applying SDK defaults from location: /root/.config/sagemaker/config.yaml\n",
      "sagemaker.config INFO - Not applying SDK defaults from location: /etc/xdg/sagemaker/config.yaml\n",
      "sagemaker.config INFO - Not applying SDK defaults from location: /root/.config/sagemaker/config.yaml\n"
     ]
    }
   ],
   "source": [
    "import boto3\n",
    "import sagemaker\n",
    "\n",
    "role = sagemaker.get_execution_role()  # execution role for the endpoint\n",
    "sess = sagemaker.session.Session()  # sagemaker session for interacting with different AWS APIs\n",
    "region = sess._region_name  # region name of the current SageMaker Studio environment\n",
    "account_id = sess.account_id()  # account_id of the current SageMaker Studio environment\n",
    "bucket = sess.default_bucket()  # bucket to house artifacts\n",
    "\n",
    "sm_client = boto3.client(\"sagemaker\", region_name=region)"
   ]
  },
  {
   "cell_type": "markdown",
   "id": "4f83bc59-3a8f-4a64-8df5-3abba6efce5a",
   "metadata": {},
   "source": [
    "### Download Embedding Model from Hugging Face"
   ]
  },
  {
   "cell_type": "code",
   "execution_count": 6,
   "id": "6e083c5f-24c7-4562-b808-178d20b745d5",
   "metadata": {
    "tags": []
   },
   "outputs": [],
   "source": [
    "from pathlib import Path\n",
    "\n",
    "model_path = f\"{HF_MODEL_ID.replace('/', '_')}\"\n",
    "Path(model_path).mkdir(parents=True, exist_ok=True)"
   ]
  },
  {
   "cell_type": "code",
   "execution_count": 7,
   "id": "2101f6d4-6cf3-429c-8828-e43722668605",
   "metadata": {
    "tags": []
   },
   "outputs": [
    {
     "data": {
      "application/vnd.jupyter.widget-view+json": {
       "model_id": "9deaaff3351245728b6b71b5938c30de",
       "version_major": 2,
       "version_minor": 0
      },
      "text/plain": [
       "Fetching 14 files:   0%|          | 0/14 [00:00<?, ?it/s]"
      ]
     },
     "metadata": {},
     "output_type": "display_data"
    },
    {
     "data": {
      "application/vnd.jupyter.widget-view+json": {
       "model_id": "d009d44c852c4c97beb6490fccb5063e",
       "version_major": 2,
       "version_minor": 0
      },
      "text/plain": [
       "Downloading pytorch_model.bin:   0%|          | 0.00/90.9M [00:00<?, ?B/s]"
      ]
     },
     "metadata": {},
     "output_type": "display_data"
    },
    {
     "data": {
      "application/vnd.jupyter.widget-view+json": {
       "model_id": "514b4c03331a46c782f9626fdd876a73",
       "version_major": 2,
       "version_minor": 0
      },
      "text/plain": [
       "Downloading modules.json:   0%|          | 0.00/349 [00:00<?, ?B/s]"
      ]
     },
     "metadata": {},
     "output_type": "display_data"
    },
    {
     "data": {
      "application/vnd.jupyter.widget-view+json": {
       "model_id": "dc6b25b5f3914ec4a828e954f3f1b333",
       "version_major": 2,
       "version_minor": 0
      },
      "text/plain": [
       "Downloading (…)ce_transformers.json:   0%|          | 0.00/116 [00:00<?, ?B/s]"
      ]
     },
     "metadata": {},
     "output_type": "display_data"
    },
    {
     "data": {
      "application/vnd.jupyter.widget-view+json": {
       "model_id": "f11b7082ac0949c88f0fecfd4180172f",
       "version_major": 2,
       "version_minor": 0
      },
      "text/plain": [
       "Downloading .gitattributes:   0%|          | 0.00/1.18k [00:00<?, ?B/s]"
      ]
     },
     "metadata": {},
     "output_type": "display_data"
    },
    {
     "data": {
      "application/vnd.jupyter.widget-view+json": {
       "model_id": "99bcf311fc984d45b97550ccb685ec79",
       "version_major": 2,
       "version_minor": 0
      },
      "text/plain": [
       "Downloading 1_Pooling/config.json:   0%|          | 0.00/190 [00:00<?, ?B/s]"
      ]
     },
     "metadata": {},
     "output_type": "display_data"
    },
    {
     "data": {
      "application/vnd.jupyter.widget-view+json": {
       "model_id": "96ea31d3eb634ded8d76929c30c5e4f5",
       "version_major": 2,
       "version_minor": 0
      },
      "text/plain": [
       "Downloading README.md:   0%|          | 0.00/10.6k [00:00<?, ?B/s]"
      ]
     },
     "metadata": {},
     "output_type": "display_data"
    },
    {
     "data": {
      "application/vnd.jupyter.widget-view+json": {
       "model_id": "6cd0a3a27ea7440cba68f802ec33f962",
       "version_major": 2,
       "version_minor": 0
      },
      "text/plain": [
       "Downloading (…)nce_bert_config.json:   0%|          | 0.00/53.0 [00:00<?, ?B/s]"
      ]
     },
     "metadata": {},
     "output_type": "display_data"
    },
    {
     "data": {
      "application/vnd.jupyter.widget-view+json": {
       "model_id": "ee730f38d7124665b5bebab92016d0c8",
       "version_major": 2,
       "version_minor": 0
      },
      "text/plain": [
       "Downloading config.json:   0%|          | 0.00/612 [00:00<?, ?B/s]"
      ]
     },
     "metadata": {},
     "output_type": "display_data"
    },
    {
     "data": {
      "application/vnd.jupyter.widget-view+json": {
       "model_id": "8aed6187f2de41d0a4ba55c293887f3b",
       "version_major": 2,
       "version_minor": 0
      },
      "text/plain": [
       "Downloading (…)cial_tokens_map.json:   0%|          | 0.00/112 [00:00<?, ?B/s]"
      ]
     },
     "metadata": {},
     "output_type": "display_data"
    },
    {
     "data": {
      "application/vnd.jupyter.widget-view+json": {
       "model_id": "f952ce2a9dcb42a8b0ed6508e8e3ac86",
       "version_major": 2,
       "version_minor": 0
      },
      "text/plain": [
       "Downloading tokenizer.json:   0%|          | 0.00/466k [00:00<?, ?B/s]"
      ]
     },
     "metadata": {},
     "output_type": "display_data"
    },
    {
     "data": {
      "application/vnd.jupyter.widget-view+json": {
       "model_id": "69bc159bb74441d3b3a2a762e5e989ac",
       "version_major": 2,
       "version_minor": 0
      },
      "text/plain": [
       "Downloading data_config.json:   0%|          | 0.00/39.3k [00:00<?, ?B/s]"
      ]
     },
     "metadata": {},
     "output_type": "display_data"
    },
    {
     "data": {
      "application/vnd.jupyter.widget-view+json": {
       "model_id": "d3db5febeabf4eb5adb38450fdca0cd4",
       "version_major": 2,
       "version_minor": 0
      },
      "text/plain": [
       "Downloading tokenizer_config.json:   0%|          | 0.00/350 [00:00<?, ?B/s]"
      ]
     },
     "metadata": {},
     "output_type": "display_data"
    },
    {
     "data": {
      "application/vnd.jupyter.widget-view+json": {
       "model_id": "f92f8564f27a49ffb4ddb957d654a082",
       "version_major": 2,
       "version_minor": 0
      },
      "text/plain": [
       "Downloading train_script.py:   0%|          | 0.00/13.2k [00:00<?, ?B/s]"
      ]
     },
     "metadata": {},
     "output_type": "display_data"
    },
    {
     "data": {
      "application/vnd.jupyter.widget-view+json": {
       "model_id": "1c6d1accaf03413fab57ed1e03ee6cda",
       "version_major": 2,
       "version_minor": 0
      },
      "text/plain": [
       "Downloading vocab.txt:   0%|          | 0.00/232k [00:00<?, ?B/s]"
      ]
     },
     "metadata": {},
     "output_type": "display_data"
    }
   ],
   "source": [
    "from huggingface_hub import snapshot_download\n",
    "\n",
    "#HF_MODEL_ID=\"sentence-transformers/all-MiniLM-L6-v2\"\n",
    "#HF_TOKEN=<Your HF Token>\n",
    "\n",
    "model_path = snapshot_download(repo_id=HF_MODEL_ID, \n",
    "                               #token=HF_TOKEN,\n",
    "                               ignore_patterns=[\"*.ot\", \"*.h5\"], \n",
    "                               cache_dir=model_path,\n",
    "                               local_dir=model_path, \n",
    "                               local_dir_use_symlinks=False)"
   ]
  },
  {
   "cell_type": "markdown",
   "id": "21f850cc-4722-4f6a-a424-a28679e7b9b1",
   "metadata": {
    "tags": []
   },
   "source": [
    "## Deploy Model"
   ]
  },
  {
   "cell_type": "markdown",
   "id": "04001dec-90a4-4cc5-9fe8-bb7160c8690b",
   "metadata": {},
   "source": [
    "Before deploying your model on SageMaker, you must package your model artifacts in a .tar.gz file. \n",
    "\n",
    "The following is an example of a `model.tar.gz` structure:\n",
    "\n",
    "```bash\n",
    "model.tar.gz/\n",
    "|- pytorch_model.bin\n",
    "|- ....\n",
    "|- code/\n",
    "  |- inference.py\n",
    "  |- requirements.txt \n",
    "```\n",
    "\n",
    "The `inference.py` file contains your custom inference module, and the `requirements.txt` file contains additional dependencies that should be added. The custom module can override the following methods:\n",
    "- `model_fn(model_dir)` overrides the default method for loading a model. \n",
    "- `input_fn(input_data, content_type)` overrides the default method for preprocessing.\n",
    "    - input_data is the raw body of your request.\n",
    "    - content_type is the content type from the request header.\n",
    "- `predict_fn(processed_data, model)` overrides the default method for predictions.\n",
    "- `output_fn(prediction, accept)` overrides the default method for postprocessing. The inputs are:\n",
    "    - predictions is the result from predict.\n",
    "    - accept is the return accept type from the HTTP Request, e.g. application/json.\n",
    "\n",
    "Here is an example of a custom inference module with `model_fn`, `input_fn`, `predict_fn`, and `output_fn`:\n",
    "\n",
    "```python\n",
    "def model_fn(model_dir):\n",
    "    return \"model\"\n",
    "\n",
    "def input_fn(data, content_type):\n",
    "    return \"data\"\n",
    "\n",
    "def predict_fn(data, model):\n",
    "    return \"output\"\n",
    "\n",
    "def output_fn(prediction, accept):\n",
    "    return prediction\n",
    "```\n",
    "\n",
    "https://huggingface.co/docs/sagemaker/inference#user-defined-code-and-modules"
   ]
  },
  {
   "cell_type": "code",
   "execution_count": 41,
   "id": "6cbb0cfe-b3c8-4632-ae19-e38651ecfc89",
   "metadata": {
    "tags": []
   },
   "outputs": [
    {
     "name": "stdout",
     "output_type": "stream",
     "text": [
      "Writing inference.py\n"
     ]
    }
   ],
   "source": [
    "%%writefile inference.py\n",
    "from sentence_transformers import SentenceTransformer\n",
    "\n",
    "def model_fn(model_dir):\n",
    "    model = SentenceTransformer(model_dir)\n",
    "    return model\n",
    "\n",
    "def predict_fn(data, model):\n",
    "    sentences = data[\"inputs\"]\n",
    "    embeddings = model.encode(sentences)\n",
    "    print(embeddings)\n",
    "    \n",
    "    # return dictonary, which will be json serializable\n",
    "    return {\"vectors\": embeddings.tolist()}"
   ]
  },
  {
   "cell_type": "code",
   "execution_count": 42,
   "id": "f2f194d9-6e17-4237-92c9-6184a8ff2a99",
   "metadata": {
    "tags": []
   },
   "outputs": [
    {
     "name": "stdout",
     "output_type": "stream",
     "text": [
      "Writing requirements.txt\n"
     ]
    }
   ],
   "source": [
    "%%writefile requirements.txt\n",
    "sentence_transformers"
   ]
  },
  {
   "cell_type": "code",
   "execution_count": 43,
   "id": "ceaabfdd-b68d-42bc-a463-05758e6454e1",
   "metadata": {
    "tags": []
   },
   "outputs": [
    {
     "data": {
      "text/plain": [
       "'sentence-transformers_all-MiniLM-L6-v2/code/requirements.txt'"
      ]
     },
     "execution_count": 43,
     "metadata": {},
     "output_type": "execute_result"
    }
   ],
   "source": [
    "from pathlib import Path\n",
    "import shutil\n",
    "\n",
    "code_path = f\"{HF_MODEL_ID.replace('/', '_')}/code\"\n",
    "Path(code_path).mkdir(parents=True, exist_ok=True)\n",
    "\n",
    "shutil.move(\"inference.py\", f\"{HF_MODEL_ID.replace('/', '_')}/code/inference.py\")\n",
    "shutil.move(\"requirements.txt\", f\"{HF_MODEL_ID.replace('/', '_')}/code/requirements.txt\")"
   ]
  },
  {
   "cell_type": "code",
   "execution_count": 61,
   "id": "bbec5c8c-38b1-4093-86e9-81a1fb92439c",
   "metadata": {
    "tags": []
   },
   "outputs": [
    {
     "name": "stdout",
     "output_type": "stream",
     "text": [
      "Add models--sentence-transformers--all-MiniLM-L6-v2\n",
      "Add pytorch_model.bin\n",
      "Add 1_Pooling\n",
      "Add tokenizer_config.json\n",
      "Add .ipynb_checkpoints\n",
      "Add config.json\n",
      "Add sentence_bert_config.json\n",
      "Add modules.json\n",
      "Add train_script.py\n",
      "Add .gitattributes\n",
      "Add special_tokens_map.json\n",
      "Add vocab.txt\n",
      "Add README.md\n",
      "Add tokenizer.json\n",
      "Add code\n",
      "Add config_sentence_transformers.json\n",
      "Add data_config.json\n"
     ]
    }
   ],
   "source": [
    "import tarfile\n",
    "import os\n",
    "\n",
    "# helper to create the model.tar.gz\n",
    "def compress(tar_dir=None, ignore_extensions=[], output_file=\"model.tar.gz\"):\n",
    "    parent_dir=os.getcwd()\n",
    "    os.chdir(tar_dir)\n",
    "    with tarfile.open(os.path.join(parent_dir, output_file), \"w:gz\") as tar:\n",
    "        for item in os.listdir('.'):\n",
    "            if any(ext in item for ext in ignore_extensions):\n",
    "                print(f\"Ignore {item}\")\n",
    "                continue\n",
    "            print(f\"Add {item}\")\n",
    "            tar.add(item, arcname=item)     \n",
    "    os.chdir(parent_dir)\n",
    "\n",
    "compress(model_path, ignore_extensions=[]) #Eg. ignore_extensions=['.bin']"
   ]
  },
  {
   "cell_type": "code",
   "execution_count": 62,
   "id": "2f9af403-810f-4336-9249-ffa65782c532",
   "metadata": {
    "tags": []
   },
   "outputs": [
    {
     "name": "stdout",
     "output_type": "stream",
     "text": [
      "Model artifact uploaded to --- > s3://sagemaker-us-east-1-468208999430/huggingface-hub/sentence-transformers/all-MiniLM-L6-v2/model.tar.gz\n"
     ]
    }
   ],
   "source": [
    "# upload files from local to S3 location\n",
    "s3_embed_prefix = f\"huggingface-hub/{HF_MODEL_ID}\"\n",
    "\n",
    "s3_embed_artifact = sess.upload_data(\"model.tar.gz\", bucket, key_prefix=s3_embed_prefix)\n",
    "print(f\"Model artifact uploaded to --- > {s3_embed_artifact}\")"
   ]
  },
  {
   "cell_type": "code",
   "execution_count": 74,
   "id": "3e75adcb-c0cb-4ebe-a571-a2b7fb47b25e",
   "metadata": {
    "tags": []
   },
   "outputs": [
    {
     "name": "stdout",
     "output_type": "stream",
     "text": [
      "sagemaker.config INFO - Not applying SDK defaults from location: /etc/xdg/sagemaker/config.yaml\n",
      "sagemaker.config INFO - Not applying SDK defaults from location: /root/.config/sagemaker/config.yaml\n",
      "sagemaker.config INFO - Not applying SDK defaults from location: /etc/xdg/sagemaker/config.yaml\n",
      "sagemaker.config INFO - Not applying SDK defaults from location: /root/.config/sagemaker/config.yaml\n",
      "----!"
     ]
    }
   ],
   "source": [
    "from sagemaker.huggingface import HuggingFaceModel\n",
    "from sagemaker.serverless.serverless_inference_config import ServerlessInferenceConfig\n",
    "\n",
    "name = sagemaker.utils.name_from_base(HF_MODEL_ID.split('/')[-1])\n",
    "\n",
    "# create Hugging Face Model Class\n",
    "huggingface_model = HuggingFaceModel(name=name,\n",
    "                                     model_data=s3_embed_artifact,\n",
    "                                     transformers_version='4.26.0',\n",
    "                                     pytorch_version='1.13.1',\n",
    "                                     py_version='py39',\n",
    "                                     role=role \n",
    "                                    )\n",
    "\n",
    "serverless_predictor = huggingface_model.deploy(endpoint_name=name, \n",
    "                                                serverless_inference_config=ServerlessInferenceConfig(\n",
    "                                                    memory_size_in_mb=4096, \n",
    "                                                    max_concurrency=10\n",
    "                                                ),\n",
    "                                                wait=False\n",
    "                                               ) "
   ]
  },
  {
   "cell_type": "code",
   "execution_count": null,
   "id": "53d8abff-88ba-441e-afc1-4e392dd4e037",
   "metadata": {},
   "outputs": [],
   "source": [
    "import time\n",
    "\n",
    "while True:\n",
    "    resp = sm_client.describe_endpoint(EndpointName=name)\n",
    "    status = resp[\"EndpointStatus\"]\n",
    "    print(\"Status: \" + status)\n",
    "    if status != \"Creating\":\n",
    "        break\n",
    "    time.sleep(60)\n",
    "\n",
    "print(\"Arn: \" + resp[\"EndpointArn\"])\n",
    "print(\"Status: \" + status)"
   ]
  },
  {
   "cell_type": "markdown",
   "id": "66548bdd-63f3-435d-beac-b83506f70acf",
   "metadata": {},
   "source": [
    "## LLM Inference with SageMaker Endpoint"
   ]
  },
  {
   "attachments": {
    "3c39c069-3a26-4269-8ecc-7e0d1ef81548.jpg": {
     "image/jpeg": "[encoded data removed]"
    }
   },
   "cell_type": "markdown",
   "id": "2da7951c-72fc-45d5-8087-6e4dc3826ba4",
   "metadata": {},
   "source": [
    "![sagemaker-serverless-endpoint.jpg](attachment:3c39c069-3a26-4269-8ecc-7e0d1ef81548.jpg)"
   ]
  },
  {
   "cell_type": "markdown",
   "id": "bf502935-f3c9-48bd-a1f5-650bda29c47a",
   "metadata": {
    "tags": []
   },
   "source": [
    "### Invoke Endpoint"
   ]
  },
  {
   "cell_type": "code",
   "execution_count": 9,
   "id": "bfe89035-3d83-4306-ae5a-5a0d3b712f0c",
   "metadata": {
    "tags": []
   },
   "outputs": [
    {
     "name": "stdout",
     "output_type": "stream",
     "text": [
      "-------------- SageMaker Endpoint List --------------\n",
      "Qwen-14B-Chat-LMI-2023-11-20-18-09-48-852\n",
      "chatglm3-6b-LMI-2023-11-20-15-52-19-414\n",
      "Qwen-7B-Chat-LMI-2023-11-20-15-49-31-607\n",
      "chatglm3-6b-TGI-2023-11-20-05-33-15-627\n",
      "Llama-2-7b-chat-fp16-TGI-2023-11-19-06-12-55-594\n",
      "Llama-2-7b-chat-fp16-LMI-2023-11-19-03-12-38-400\n",
      "all-MiniLM-L6-v2-2023-11-18-15-07-22-162\n",
      "jumpstart-dft-meta-textgeneration-llama-2-7b-f\n",
      "mlops-jenkins-yolov4-prod\n",
      "mlops-jenkins-yolov4-staging\n",
      "\n",
      "Enter endpoint name to load Predictor\n",
      "-------------------------------------\n"
     ]
    },
    {
     "name": "stdin",
     "output_type": "stream",
     "text": [
      " all-MiniLM-L6-v2-2023-11-18-15-07-22-162\n"
     ]
    },
    {
     "name": "stdout",
     "output_type": "stream",
     "text": [
      "sagemaker.config INFO - Not applying SDK defaults from location: /etc/xdg/sagemaker/config.yaml\n",
      "sagemaker.config INFO - Not applying SDK defaults from location: /root/.config/sagemaker/config.yaml\n"
     ]
    }
   ],
   "source": [
    "import boto3\n",
    "import sagemaker\n",
    "\n",
    "sm_client = boto3.client(\"sagemaker\", region_name=region)\n",
    "smr_client = boto3.client(\"sagemaker-runtime\", region_name=\"us-east-1\")\n",
    "\n",
    "print(\"-------------- SageMaker Endpoint List --------------\")\n",
    "endpoints = sm_client.list_endpoints(StatusEquals=\"InService\")\n",
    "for endpoint in endpoints['Endpoints']:\n",
    "    print(endpoint['EndpointName'])\n",
    "\n",
    "print(\"\")\n",
    "print(\"Enter endpoint name to use the model\")\n",
    "print(\"-------------------------------------\")\n",
    "endpoint_name = input()\n",
    "\n",
    "\n",
    "# our requests and responses will be in json format so we specify the serializer and the deserializer\n",
    "\n",
    "#embed_predictor = sagemaker.Predictor(\n",
    "#    endpoint_name = endpoint_name,\n",
    "#    sagemaker_session = sagemaker.session.Session(),  # sagemaker session for interacting with different AWS APIs\n",
    "#    serializer = sagemaker.serializers.JSONSerializer(),\n",
    "#    deserializer = sagemaker.deserializers.JSONDeserializer()\n",
    "#)\n",
    "print(\"\")\n",
    "print(\"Model loaded!\")"
   ]
  },
  {
   "cell_type": "code",
   "execution_count": 78,
   "id": "c20e45e1-ab6f-4f6d-b84a-69898abf033e",
   "metadata": {
    "tags": []
   },
   "outputs": [],
   "source": [
    "text = \"This is an example sentence\""
   ]
  },
  {
   "cell_type": "code",
   "execution_count": 12,
   "id": "61aaeace-11a1-483a-b33c-6434fb004fe9",
   "metadata": {
    "tags": []
   },
   "outputs": [
    {
     "name": "stdout",
     "output_type": "stream",
     "text": [
      "Input Text\n",
      "----------\n"
     ]
    },
    {
     "name": "stdin",
     "output_type": "stream",
     "text": [
      " This is an example sentence\n"
     ]
    },
    {
     "name": "stdout",
     "output_type": "stream",
     "text": [
      "\n",
      "Vector length is 384\n",
      "{'vectors': [0.06765694916248322, 0.06349599361419678, 0.04871309548616409, 0.07930496335029602, 0.037448104470968246, 0.002652771072462201, 0.03937496244907379, -0.007098469417542219, 0.05936143919825554, 0.03153697028756142, 0.06009810417890549, -0.05290517956018448, 0.040606789290905, -0.025930818170309067, 0.029842838644981384, 0.0011269228998571634, 0.07351484894752502, -0.050381824374198914, -0.122386634349823, 0.023702824488282204, 0.029726561158895493, 0.042476847767829895, 0.025633757933974266, 0.001995184225961566, -0.05691906064748764, -0.027159791439771652, -0.032903533428907394, 0.06602486968040466, 0.11900720745325089, -0.04587909206748009, -0.0726214274764061, -0.03258403390645981, 0.05234133079648018, 0.04505529627203941, 0.008252974599599838, 0.03670238330960274, -0.01394156739115715, 0.065391905605793, -0.02642720937728882, 0.00020636017143260688, -0.013664314523339272, -0.036281097680330276, -0.019504377618432045, -0.028973769396543503, 0.03942706063389778, -0.08840908110141754, 0.0026242330204695463, 0.013671372085809708, 0.04830627143383026, -0.03115660697221756, -0.1173291727900505, -0.05116907134652138, -0.0885288193821907, -0.021896349266171455, 0.014298660680651665, 0.04441680759191513, -0.01348159834742546, 0.07433924078941345, 0.026638295501470566, -0.019876280799508095, 0.01791914366185665, -0.01060521975159645, -0.0904262587428093, 0.021326880902051926, 0.1412048488855362, -0.006471743807196617, -0.0014037947403267026, -0.015360962599515915, -0.08735723048448563, 0.0722174197435379, 0.02014031633734703, 0.04255877062678337, -0.03490141034126282, 0.0003195008321199566, -0.08029710501432419, -0.03274722769856453, 0.02852684073150158, -0.051365818828344345, 0.10938916355371475, 0.08193285018205643, -0.09840404242277145, -0.09340959042310715, -0.015129180625081062, 0.04512490704655647, 0.04941721633076668, -0.025186803191900253, 0.015707751736044884, -0.12929074466228485, 0.005318928975611925, 0.004023418761789799, -0.023457203060388565, -0.0672982931137085, 0.029228050261735916, -0.026084505021572113, 0.013062472455203533, -0.031166300177574158, -0.04827135428786278, -0.055885929614305496, -0.03875049576163292, 0.1200108677148819, -0.010392443276941776, 0.04897052049636841, 0.05535375326871872, 0.044935792684555054, -0.004009819123893976, -0.10295978933572769, -0.02929685264825821, -0.05834026634693146, 0.027047177776694298, -0.02201691083610058, -0.07222411781549454, -0.041386984288692474, -0.01932981237769127, 0.002733273198828101, 0.0002769877901300788, -0.09675882756710052, -0.10057470202445984, -0.014192264527082443, -0.08078917860984802, 0.04539252072572708, 0.024504151195287704, 0.05976142734289169, -0.07381848245859146, 0.011984387412667274, -0.06634034961462021, -0.07690450549125671, 0.038515813648700714, -5.593621827140518e-33, 0.028001345694065094, -0.05607851967215538, -0.04866014048457146, 0.021556908264756203, 0.060198064893484116, -0.048140302300453186, -0.03502475842833519, 0.019331403076648712, -0.01751519925892353, -0.03892103210091591, -0.0038105850107967854, -0.017028775066137314, 0.028210017830133438, 0.012829097919166088, 0.047160129994153976, 0.0621030293405056, -0.06435889005661011, 0.12928560376167297, -0.01312309317290783, 0.05230695754289627, -0.0373680517077446, 0.02890945039689541, -0.016898153349757195, -0.023733042180538177, -0.0333491712808609, -0.05167626962065697, 0.015535703860223293, 0.02088027261197567, -0.012537171132862568, 0.04595787823200226, 0.03727199509739876, 0.0280566718429327, -0.05900046229362488, -0.01169882994145155, 0.0492183156311512, 0.047032907605171204, 0.07354876399040222, -0.03705304116010666, 0.003984575625509024, 0.010641180910170078, -0.00016148935537785292, -0.05271661654114723, 0.027592802420258522, -0.039292141795158386, 0.08447181433439255, 0.04868607223033905, -0.004858714994043112, 0.01799488440155983, -0.042856983840465546, 0.012337555177509785, 0.006399515550583601, 0.040482357144355774, 0.014888719655573368, -0.015394128859043121, 0.07629482448101044, 0.02370436117053032, 0.0445237010717392, 0.05081957206130028, -0.0023125577718019485, -0.018873702734708786, -0.01233361940830946, 0.04660014435648918, -0.05634378641843796, 0.06299272924661636, -0.031553540378808975, 0.03249121457338333, 0.023467345163226128, -0.06554388999938965, 0.020170973613858223, 0.02570822462439537, -0.012386921793222427, -0.008364871144294739, -0.06643775850534439, 0.09430736303329468, -0.03570926934480667, -0.03424832224845886, -0.006663584150373936, -0.008015296421945095, -0.03097112663090229, 0.043301235884428024, -0.008214015513658524, -0.15079504251480103, 0.030769187957048416, 0.04007195308804512, -0.03792935237288475, 0.0019321513827890158, 0.04005309194326401, -0.0877075120806694, -0.03684912994503975, 0.00857963040471077, -0.03192521259188652, -0.012525775469839573, 0.07355394214391708, 0.0013473632279783487, 0.02059187740087509, 2.7109814588610005e-33, -0.051857613027095795, 0.057836100459098816, -0.09189848601818085, 0.03944213315844536, 0.10557655990123749, -0.019691212102770805, 0.06184022128582001, -0.07634655386209488, 0.024088110774755478, 0.09400490671396255, -0.11653541773557663, 0.037119846791028976, 0.05224250257015228, -0.003958574030548334, 0.0572214312851429, 0.0053285579197108746, 0.12401687353849411, 0.01390222180634737, -0.011025003157556057, 0.03560534492135048, -0.0330754779279232, 0.08165744692087173, -0.015200383961200714, 0.06055859103798866, -0.06013976037502289, 0.03261026367545128, -0.034829676151275635, -0.016988171264529228, -0.09749069809913635, -0.027148429304361343, 0.001747114583849907, -0.07689826935529709, -0.0431857630610466, -0.018998483195900917, -0.02916613034904003, 0.057748835533857346, 0.024182181805372238, -0.011690258048474789, -0.06214350834488869, 0.02843513898551464, -0.0002375304902670905, -0.025178326293826103, 0.004396431613713503, 0.08128401637077332, 0.03641842305660248, -0.06040066108107567, -0.036551762372255325, -0.07937486469745636, -0.00508527597412467, 0.06696990132331848, -0.11778436601161957, 0.03237432613968849, -0.04712529107928276, -0.013445957563817501, -0.09484449028968811, 0.008249531500041485, -0.010674865916371346, -0.0681881234049797, 0.0011182038579136133, 0.024801986292004585, -0.06358891725540161, 0.028449250385165215, -0.026130348443984985, 0.08581110835075378, 0.11468221992254257, -0.0535346120595932, -0.05635886639356613, 0.04260096326470375, 0.010945449583232403, 0.020957913249731064, 0.10013112425804138, 0.032605092972517014, -0.1842087358236313, -0.03932087495923042, -0.06914551556110382, -0.06381049007177353, -0.06563860923051834, -0.0064124963246285915, -0.04796130210161209, -0.07681328058242798, 0.029538489878177643, -0.02299482375383377, 0.04170369729399681, -0.025004792958498, -0.004545100033283234, -0.0417136512696743, -0.013229000382125378, -0.06383571773767471, -0.002464735647663474, -0.01373379584401846, 0.016897665336728096, -0.06303977966308594, 0.08988803625106812, 0.04181709513068199, -0.01856875978410244, -1.804422034012987e-08, -0.0167998019605875, -0.032157715409994125, 0.06303838640451431, -0.04130915179848671, 0.04448193684220314, 0.0020246875938028097, 0.06295928359031677, -0.005173706915229559, -0.010044446215033531, -0.03056396171450615, 0.03526729345321655, 0.05585817992687225, -0.046712473034858704, 0.0345102958381176, 0.03295784816145897, 0.04301144927740097, 0.02943609282374382, -0.03031647764146328, -0.017110779881477356, 0.07374846935272217, -0.05479101836681366, 0.027751510962843895, 0.006201671902090311, 0.01588004268705845, 0.034297876060009, -0.00515751400962472, 0.023508010432124138, 0.07531354576349258, 0.0192843247205019, 0.033619754016399384, 0.05091037601232529, 0.1524970531463623, 0.016420776024460793, 0.02705284394323826, 0.03751617670059204, 0.021855300292372704, 0.056633360683918, -0.03957468643784523, 0.07123135775327682, -0.05413775518536568, 0.001037662848830223, 0.02118530496954918, -0.03563099727034569, 0.10901692509651184, 0.0027653302531689405, 0.03139973804354668, 0.0013842175249010324, -0.034573860466480255, -0.04592778533697128, 0.028808318078517914, 0.007169031072407961, 0.048468489199876785, 0.02610182575881481, -0.00944069679826498, 0.028217000886797905, 0.03487241640686989, 0.03690987825393677, -0.008589456789195538, -0.035320572555065155, -0.024785665795207024, -0.019192101433873177, 0.03807071968913078, 0.05996531993150711, -0.04222870618104935]}\n"
     ]
    }
   ],
   "source": [
    "import json\n",
    "\n",
    "print(\"Input Text\")\n",
    "print(\"----------\")\n",
    "text = input()\n",
    "\n",
    "payload = {\"inputs\": text}\n",
    "response = smr_client.invoke_endpoint(EndpointName=endpoint_name, \n",
    "                                      Body=json.dumps(payload),#.encode('utf-8'),\n",
    "                                      Accept=\"application/json\",\n",
    "                                      ContentType=\"application/json\",\n",
    "                                      )\n",
    "result = json.loads(response[\"Body\"].read().decode('utf-8'))\n",
    "\n",
    "#result = embed_predictor.predict({\"inputs\": text})\n",
    "\n",
    "print(\"\")\n",
    "print(f\"Vector length is {len(result['vectors'])}\")\n",
    "print(result)"
   ]
  },
  {
   "cell_type": "markdown",
   "id": "005154f7-2535-4d58-8ec8-d064c2755fe1",
   "metadata": {
    "tags": []
   },
   "source": [
    "## Langchain Integration"
   ]
  },
  {
   "cell_type": "code",
   "execution_count": null,
   "id": "fb933958-df85-4bfc-a2ad-5959436cb1c0",
   "metadata": {},
   "outputs": [],
   "source": [
    "import langchain\n",
    "\n",
    "langchain.verbose = True"
   ]
  },
  {
   "cell_type": "code",
   "execution_count": 82,
   "id": "66797f63-887c-4f1d-b903-9fc8ae75c0de",
   "metadata": {
    "tags": []
   },
   "outputs": [],
   "source": [
    "endpoint_name = \"\""
   ]
  },
  {
   "cell_type": "code",
   "execution_count": 84,
   "id": "dbf38d59-8d17-4b4d-bf56-0aed06a37829",
   "metadata": {
    "tags": []
   },
   "outputs": [],
   "source": [
    "from langchain.embeddings import SagemakerEndpointEmbeddings\n",
    "from langchain.embeddings.sagemaker_endpoint import EmbeddingsContentHandler\n",
    "from typing import Dict, List\n",
    "\n",
    "class ContentHandler(EmbeddingsContentHandler):\n",
    "    content_type = \"application/json\"\n",
    "    accepts = \"application/json\"\n",
    "\n",
    "    def transform_input(self, inputs: list[str], model_kwargs: Dict) -> bytes:\n",
    "        input_str = json.dumps({\"inputs\": inputs, **model_kwargs})\n",
    "        return input_str.encode(\"utf-8\")\n",
    "\n",
    "    def transform_output(self, output: bytes) -> List[List[float]]:\n",
    "        response_json = json.loads(output.read().decode(\"utf-8\"))\n",
    "        return response_json[\"vectors\"]\n",
    "\n",
    "embeddings = SagemakerEndpointEmbeddings(endpoint_name = endpoint_name,\n",
    "                                         region_name=\"us-east-1\",\n",
    "                                         content_handler=ContentHandler()\n",
    "                                        )"
   ]
  },
  {
   "cell_type": "code",
   "execution_count": 86,
   "id": "26373212-e4d0-431e-83f9-f05113e5553e",
   "metadata": {
    "collapsed": true,
    "jupyter": {
     "outputs_hidden": true
    },
    "tags": []
   },
   "outputs": [
    {
     "data": {
      "text/plain": [
       "[0.06765694916248322,\n",
       " 0.06349599361419678,\n",
       " 0.04871309548616409,\n",
       " 0.07930496335029602,\n",
       " 0.037448104470968246,\n",
       " 0.002652771072462201,\n",
       " 0.03937496244907379,\n",
       " -0.007098469417542219,\n",
       " 0.05936143919825554,\n",
       " 0.03153697028756142,\n",
       " 0.06009810417890549,\n",
       " -0.05290517956018448,\n",
       " 0.040606789290905,\n",
       " -0.025930818170309067,\n",
       " 0.029842838644981384,\n",
       " 0.0011269228998571634,\n",
       " 0.07351484894752502,\n",
       " -0.050381824374198914,\n",
       " -0.122386634349823,\n",
       " 0.023702824488282204,\n",
       " 0.029726561158895493,\n",
       " 0.042476847767829895,\n",
       " 0.025633757933974266,\n",
       " 0.001995184225961566,\n",
       " -0.05691906064748764,\n",
       " -0.027159791439771652,\n",
       " -0.032903533428907394,\n",
       " 0.06602486968040466,\n",
       " 0.11900720745325089,\n",
       " -0.04587909206748009,\n",
       " -0.0726214274764061,\n",
       " -0.03258403390645981,\n",
       " 0.05234133079648018,\n",
       " 0.04505529627203941,\n",
       " 0.008252974599599838,\n",
       " 0.03670238330960274,\n",
       " -0.01394156739115715,\n",
       " 0.065391905605793,\n",
       " -0.02642720937728882,\n",
       " 0.00020636017143260688,\n",
       " -0.013664314523339272,\n",
       " -0.036281097680330276,\n",
       " -0.019504377618432045,\n",
       " -0.028973769396543503,\n",
       " 0.03942706063389778,\n",
       " -0.08840908110141754,\n",
       " 0.0026242330204695463,\n",
       " 0.013671372085809708,\n",
       " 0.04830627143383026,\n",
       " -0.03115660697221756,\n",
       " -0.1173291727900505,\n",
       " -0.05116907134652138,\n",
       " -0.0885288193821907,\n",
       " -0.021896349266171455,\n",
       " 0.014298660680651665,\n",
       " 0.04441680759191513,\n",
       " -0.01348159834742546,\n",
       " 0.07433924078941345,\n",
       " 0.026638295501470566,\n",
       " -0.019876280799508095,\n",
       " 0.01791914366185665,\n",
       " -0.01060521975159645,\n",
       " -0.0904262587428093,\n",
       " 0.021326880902051926,\n",
       " 0.1412048488855362,\n",
       " -0.006471743807196617,\n",
       " -0.0014037947403267026,\n",
       " -0.015360962599515915,\n",
       " -0.08735723048448563,\n",
       " 0.0722174197435379,\n",
       " 0.02014031633734703,\n",
       " 0.04255877062678337,\n",
       " -0.03490141034126282,\n",
       " 0.0003195008321199566,\n",
       " -0.08029710501432419,\n",
       " -0.03274722769856453,\n",
       " 0.02852684073150158,\n",
       " -0.051365818828344345,\n",
       " 0.10938916355371475,\n",
       " 0.08193285018205643,\n",
       " -0.09840404242277145,\n",
       " -0.09340959042310715,\n",
       " -0.015129180625081062,\n",
       " 0.04512490704655647,\n",
       " 0.04941721633076668,\n",
       " -0.025186803191900253,\n",
       " 0.015707751736044884,\n",
       " -0.12929074466228485,\n",
       " 0.005318928975611925,\n",
       " 0.004023418761789799,\n",
       " -0.023457203060388565,\n",
       " -0.0672982931137085,\n",
       " 0.029228050261735916,\n",
       " -0.026084505021572113,\n",
       " 0.013062472455203533,\n",
       " -0.031166300177574158,\n",
       " -0.04827135428786278,\n",
       " -0.055885929614305496,\n",
       " -0.03875049576163292,\n",
       " 0.1200108677148819,\n",
       " -0.010392443276941776,\n",
       " 0.04897052049636841,\n",
       " 0.05535375326871872,\n",
       " 0.044935792684555054,\n",
       " -0.004009819123893976,\n",
       " -0.10295978933572769,\n",
       " -0.02929685264825821,\n",
       " -0.05834026634693146,\n",
       " 0.027047177776694298,\n",
       " -0.02201691083610058,\n",
       " -0.07222411781549454,\n",
       " -0.041386984288692474,\n",
       " -0.01932981237769127,\n",
       " 0.002733273198828101,\n",
       " 0.0002769877901300788,\n",
       " -0.09675882756710052,\n",
       " -0.10057470202445984,\n",
       " -0.014192264527082443,\n",
       " -0.08078917860984802,\n",
       " 0.04539252072572708,\n",
       " 0.024504151195287704,\n",
       " 0.05976142734289169,\n",
       " -0.07381848245859146,\n",
       " 0.011984387412667274,\n",
       " -0.06634034961462021,\n",
       " -0.07690450549125671,\n",
       " 0.038515813648700714,\n",
       " -5.593621827140518e-33,\n",
       " 0.028001345694065094,\n",
       " -0.05607851967215538,\n",
       " -0.04866014048457146,\n",
       " 0.021556908264756203,\n",
       " 0.060198064893484116,\n",
       " -0.048140302300453186,\n",
       " -0.03502475842833519,\n",
       " 0.019331403076648712,\n",
       " -0.01751519925892353,\n",
       " -0.03892103210091591,\n",
       " -0.0038105850107967854,\n",
       " -0.017028775066137314,\n",
       " 0.028210017830133438,\n",
       " 0.012829097919166088,\n",
       " 0.047160129994153976,\n",
       " 0.0621030293405056,\n",
       " -0.06435889005661011,\n",
       " 0.12928560376167297,\n",
       " -0.01312309317290783,\n",
       " 0.05230695754289627,\n",
       " -0.0373680517077446,\n",
       " 0.02890945039689541,\n",
       " -0.016898153349757195,\n",
       " -0.023733042180538177,\n",
       " -0.0333491712808609,\n",
       " -0.05167626962065697,\n",
       " 0.015535703860223293,\n",
       " 0.02088027261197567,\n",
       " -0.012537171132862568,\n",
       " 0.04595787823200226,\n",
       " 0.03727199509739876,\n",
       " 0.0280566718429327,\n",
       " -0.05900046229362488,\n",
       " -0.01169882994145155,\n",
       " 0.0492183156311512,\n",
       " 0.047032907605171204,\n",
       " 0.07354876399040222,\n",
       " -0.03705304116010666,\n",
       " 0.003984575625509024,\n",
       " 0.010641180910170078,\n",
       " -0.00016148935537785292,\n",
       " -0.05271661654114723,\n",
       " 0.027592802420258522,\n",
       " -0.039292141795158386,\n",
       " 0.08447181433439255,\n",
       " 0.04868607223033905,\n",
       " -0.004858714994043112,\n",
       " 0.01799488440155983,\n",
       " -0.042856983840465546,\n",
       " 0.012337555177509785,\n",
       " 0.006399515550583601,\n",
       " 0.040482357144355774,\n",
       " 0.014888719655573368,\n",
       " -0.015394128859043121,\n",
       " 0.07629482448101044,\n",
       " 0.02370436117053032,\n",
       " 0.0445237010717392,\n",
       " 0.05081957206130028,\n",
       " -0.0023125577718019485,\n",
       " -0.018873702734708786,\n",
       " -0.01233361940830946,\n",
       " 0.04660014435648918,\n",
       " -0.05634378641843796,\n",
       " 0.06299272924661636,\n",
       " -0.031553540378808975,\n",
       " 0.03249121457338333,\n",
       " 0.023467345163226128,\n",
       " -0.06554388999938965,\n",
       " 0.020170973613858223,\n",
       " 0.02570822462439537,\n",
       " -0.012386921793222427,\n",
       " -0.008364871144294739,\n",
       " -0.06643775850534439,\n",
       " 0.09430736303329468,\n",
       " -0.03570926934480667,\n",
       " -0.03424832224845886,\n",
       " -0.006663584150373936,\n",
       " -0.008015296421945095,\n",
       " -0.03097112663090229,\n",
       " 0.043301235884428024,\n",
       " -0.008214015513658524,\n",
       " -0.15079504251480103,\n",
       " 0.030769187957048416,\n",
       " 0.04007195308804512,\n",
       " -0.03792935237288475,\n",
       " 0.0019321513827890158,\n",
       " 0.04005309194326401,\n",
       " -0.0877075120806694,\n",
       " -0.03684912994503975,\n",
       " 0.00857963040471077,\n",
       " -0.03192521259188652,\n",
       " -0.012525775469839573,\n",
       " 0.07355394214391708,\n",
       " 0.0013473632279783487,\n",
       " 0.02059187740087509,\n",
       " 2.7109814588610005e-33,\n",
       " -0.051857613027095795,\n",
       " 0.057836100459098816,\n",
       " -0.09189848601818085,\n",
       " 0.03944213315844536,\n",
       " 0.10557655990123749,\n",
       " -0.019691212102770805,\n",
       " 0.06184022128582001,\n",
       " -0.07634655386209488,\n",
       " 0.024088110774755478,\n",
       " 0.09400490671396255,\n",
       " -0.11653541773557663,\n",
       " 0.037119846791028976,\n",
       " 0.05224250257015228,\n",
       " -0.003958574030548334,\n",
       " 0.0572214312851429,\n",
       " 0.0053285579197108746,\n",
       " 0.12401687353849411,\n",
       " 0.01390222180634737,\n",
       " -0.011025003157556057,\n",
       " 0.03560534492135048,\n",
       " -0.0330754779279232,\n",
       " 0.08165744692087173,\n",
       " -0.015200383961200714,\n",
       " 0.06055859103798866,\n",
       " -0.06013976037502289,\n",
       " 0.03261026367545128,\n",
       " -0.034829676151275635,\n",
       " -0.016988171264529228,\n",
       " -0.09749069809913635,\n",
       " -0.027148429304361343,\n",
       " 0.001747114583849907,\n",
       " -0.07689826935529709,\n",
       " -0.0431857630610466,\n",
       " -0.018998483195900917,\n",
       " -0.02916613034904003,\n",
       " 0.057748835533857346,\n",
       " 0.024182181805372238,\n",
       " -0.011690258048474789,\n",
       " -0.06214350834488869,\n",
       " 0.02843513898551464,\n",
       " -0.0002375304902670905,\n",
       " -0.025178326293826103,\n",
       " 0.004396431613713503,\n",
       " 0.08128401637077332,\n",
       " 0.03641842305660248,\n",
       " -0.06040066108107567,\n",
       " -0.036551762372255325,\n",
       " -0.07937486469745636,\n",
       " -0.00508527597412467,\n",
       " 0.06696990132331848,\n",
       " -0.11778436601161957,\n",
       " 0.03237432613968849,\n",
       " -0.04712529107928276,\n",
       " -0.013445957563817501,\n",
       " -0.09484449028968811,\n",
       " 0.008249531500041485,\n",
       " -0.010674865916371346,\n",
       " -0.0681881234049797,\n",
       " 0.0011182038579136133,\n",
       " 0.024801986292004585,\n",
       " -0.06358891725540161,\n",
       " 0.028449250385165215,\n",
       " -0.026130348443984985,\n",
       " 0.08581110835075378,\n",
       " 0.11468221992254257,\n",
       " -0.0535346120595932,\n",
       " -0.05635886639356613,\n",
       " 0.04260096326470375,\n",
       " 0.010945449583232403,\n",
       " 0.020957913249731064,\n",
       " 0.10013112425804138,\n",
       " 0.032605092972517014,\n",
       " -0.1842087358236313,\n",
       " -0.03932087495923042,\n",
       " -0.06914551556110382,\n",
       " -0.06381049007177353,\n",
       " -0.06563860923051834,\n",
       " -0.0064124963246285915,\n",
       " -0.04796130210161209,\n",
       " -0.07681328058242798,\n",
       " 0.029538489878177643,\n",
       " -0.02299482375383377,\n",
       " 0.04170369729399681,\n",
       " -0.025004792958498,\n",
       " -0.004545100033283234,\n",
       " -0.0417136512696743,\n",
       " -0.013229000382125378,\n",
       " -0.06383571773767471,\n",
       " -0.002464735647663474,\n",
       " -0.01373379584401846,\n",
       " 0.016897665336728096,\n",
       " -0.06303977966308594,\n",
       " 0.08988803625106812,\n",
       " 0.04181709513068199,\n",
       " -0.01856875978410244,\n",
       " -1.804422034012987e-08,\n",
       " -0.0167998019605875,\n",
       " -0.032157715409994125,\n",
       " 0.06303838640451431,\n",
       " -0.04130915179848671,\n",
       " 0.04448193684220314,\n",
       " 0.0020246875938028097,\n",
       " 0.06295928359031677,\n",
       " -0.005173706915229559,\n",
       " -0.010044446215033531,\n",
       " -0.03056396171450615,\n",
       " 0.03526729345321655,\n",
       " 0.05585817992687225,\n",
       " -0.046712473034858704,\n",
       " 0.0345102958381176,\n",
       " 0.03295784816145897,\n",
       " 0.04301144927740097,\n",
       " 0.02943609282374382,\n",
       " -0.03031647764146328,\n",
       " -0.017110779881477356,\n",
       " 0.07374846935272217,\n",
       " -0.05479101836681366,\n",
       " 0.027751510962843895,\n",
       " 0.006201671902090311,\n",
       " 0.01588004268705845,\n",
       " 0.034297876060009,\n",
       " -0.00515751400962472,\n",
       " 0.023508010432124138,\n",
       " 0.07531354576349258,\n",
       " 0.0192843247205019,\n",
       " 0.033619754016399384,\n",
       " 0.05091037601232529,\n",
       " 0.1524970531463623,\n",
       " 0.016420776024460793,\n",
       " 0.02705284394323826,\n",
       " 0.03751617670059204,\n",
       " 0.021855300292372704,\n",
       " 0.056633360683918,\n",
       " -0.03957468643784523,\n",
       " 0.07123135775327682,\n",
       " -0.05413775518536568,\n",
       " 0.001037662848830223,\n",
       " 0.02118530496954918,\n",
       " -0.03563099727034569,\n",
       " 0.10901692509651184,\n",
       " 0.0027653302531689405,\n",
       " 0.03139973804354668,\n",
       " 0.0013842175249010324,\n",
       " -0.034573860466480255,\n",
       " -0.04592778533697128,\n",
       " 0.028808318078517914,\n",
       " 0.007169031072407961,\n",
       " 0.048468489199876785,\n",
       " 0.02610182575881481,\n",
       " -0.00944069679826498,\n",
       " 0.028217000886797905,\n",
       " 0.03487241640686989,\n",
       " 0.03690987825393677,\n",
       " -0.008589456789195538,\n",
       " -0.035320572555065155,\n",
       " -0.024785665795207024,\n",
       " -0.019192101433873177,\n",
       " 0.03807071968913078,\n",
       " 0.05996531993150711,\n",
       " -0.04222870618104935]"
      ]
     },
     "execution_count": 86,
     "metadata": {},
     "output_type": "execute_result"
    }
   ],
   "source": [
    "embeddings.embed_query(\"This is an example sentence\")"
   ]
  },
  {
   "cell_type": "markdown",
   "id": "2c08debb-6d4e-4c02-b42a-7cde0c9a6d93",
   "metadata": {},
   "source": [
    "## Clean Up"
   ]
  },
  {
   "cell_type": "code",
   "execution_count": null,
   "id": "58a3efd4-032d-40a5-a89b-2794d24f0ac9",
   "metadata": {},
   "outputs": [],
   "source": [
    "import boto3\n",
    "#import sagemaker\n",
    "\n",
    "sm_client = boto3.client(\"sagemaker\", region_name=region)\n",
    "\n",
    "print(\"-------------- SageMaker Endpoint List --------------\")\n",
    "endpoints = sm_client.list_endpoints(StatusEquals=\"InService\")\n",
    "for endpoint in endpoints['Endpoints']:\n",
    "    print(endpoint['EndpointName'])\n",
    "\n",
    "print(\"\")\n",
    "print(\"Enter endpoint name to delete the model\")\n",
    "print(\"---------------------------------------\")\n",
    "endpoint_name = input()\n",
    "\n",
    "sm_client.delete_model(ModelName=endpoint_name)    \n",
    "sm_client.delete_endpoint(EndpointName=endpoint_name)\n",
    "sm_client.delete_endpoint_config(EndpointConfigName=endpoint_name)\n",
    "\n",
    "\n",
    "#embed_predictor = sagemaker.Predictor(\n",
    "#    endpoint_name = endpoint_name,\n",
    "#    sagemaker_session = sagemaker.session.Session(),  # sagemaker session for interacting with different AWS APIs\n",
    "#    serializer = sagemaker.serializers.JSONSerializer(),\n",
    "#    deserializer = sagemaker.deserializers.JSONDeserializer()\n",
    "#)\n",
    "\n",
    "#embed_predictor.delete_model()\n",
    "#embed_predictor.delete_endpoint()\n",
    "\n",
    "print(\"\")\n",
    "print(\"Model deleted!\")"
   ]
  }
 ],
 "metadata": {
  "availableInstances": [
   {
    "_defaultOrder": 0,
    "_isFastLaunch": true,
    "category": "General purpose",
    "gpuNum": 0,
    "hideHardwareSpecs": false,
    "memoryGiB": 4,
    "name": "ml.t3.medium",
    "vcpuNum": 2
   },
   {
    "_defaultOrder": 1,
    "_isFastLaunch": false,
    "category": "General purpose",
    "gpuNum": 0,
    "hideHardwareSpecs": false,
    "memoryGiB": 8,
    "name": "ml.t3.large",
    "vcpuNum": 2
   },
   {
    "_defaultOrder": 2,
    "_isFastLaunch": false,
    "category": "General purpose",
    "gpuNum": 0,
    "hideHardwareSpecs": false,
    "memoryGiB": 16,
    "name": "ml.t3.xlarge",
    "vcpuNum": 4
   },
   {
    "_defaultOrder": 3,
    "_isFastLaunch": false,
    "category": "General purpose",
    "gpuNum": 0,
    "hideHardwareSpecs": false,
    "memoryGiB": 32,
    "name": "ml.t3.2xlarge",
    "vcpuNum": 8
   },
   {
    "_defaultOrder": 4,
    "_isFastLaunch": true,
    "category": "General purpose",
    "gpuNum": 0,
    "hideHardwareSpecs": false,
    "memoryGiB": 8,
    "name": "ml.m5.large",
    "vcpuNum": 2
   },
   {
    "_defaultOrder": 5,
    "_isFastLaunch": false,
    "category": "General purpose",
    "gpuNum": 0,
    "hideHardwareSpecs": false,
    "memoryGiB": 16,
    "name": "ml.m5.xlarge",
    "vcpuNum": 4
   },
   {
    "_defaultOrder": 6,
    "_isFastLaunch": false,
    "category": "General purpose",
    "gpuNum": 0,
    "hideHardwareSpecs": false,
    "memoryGiB": 32,
    "name": "ml.m5.2xlarge",
    "vcpuNum": 8
   },
   {
    "_defaultOrder": 7,
    "_isFastLaunch": false,
    "category": "General purpose",
    "gpuNum": 0,
    "hideHardwareSpecs": false,
    "memoryGiB": 64,
    "name": "ml.m5.4xlarge",
    "vcpuNum": 16
   },
   {
    "_defaultOrder": 8,
    "_isFastLaunch": false,
    "category": "General purpose",
    "gpuNum": 0,
    "hideHardwareSpecs": false,
    "memoryGiB": 128,
    "name": "ml.m5.8xlarge",
    "vcpuNum": 32
   },
   {
    "_defaultOrder": 9,
    "_isFastLaunch": false,
    "category": "General purpose",
    "gpuNum": 0,
    "hideHardwareSpecs": false,
    "memoryGiB": 192,
    "name": "ml.m5.12xlarge",
    "vcpuNum": 48
   },
   {
    "_defaultOrder": 10,
    "_isFastLaunch": false,
    "category": "General purpose",
    "gpuNum": 0,
    "hideHardwareSpecs": false,
    "memoryGiB": 256,
    "name": "ml.m5.16xlarge",
    "vcpuNum": 64
   },
   {
    "_defaultOrder": 11,
    "_isFastLaunch": false,
    "category": "General purpose",
    "gpuNum": 0,
    "hideHardwareSpecs": false,
    "memoryGiB": 384,
    "name": "ml.m5.24xlarge",
    "vcpuNum": 96
   },
   {
    "_defaultOrder": 12,
    "_isFastLaunch": false,
    "category": "General purpose",
    "gpuNum": 0,
    "hideHardwareSpecs": false,
    "memoryGiB": 8,
    "name": "ml.m5d.large",
    "vcpuNum": 2
   },
   {
    "_defaultOrder": 13,
    "_isFastLaunch": false,
    "category": "General purpose",
    "gpuNum": 0,
    "hideHardwareSpecs": false,
    "memoryGiB": 16,
    "name": "ml.m5d.xlarge",
    "vcpuNum": 4
   },
   {
    "_defaultOrder": 14,
    "_isFastLaunch": false,
    "category": "General purpose",
    "gpuNum": 0,
    "hideHardwareSpecs": false,
    "memoryGiB": 32,
    "name": "ml.m5d.2xlarge",
    "vcpuNum": 8
   },
   {
    "_defaultOrder": 15,
    "_isFastLaunch": false,
    "category": "General purpose",
    "gpuNum": 0,
    "hideHardwareSpecs": false,
    "memoryGiB": 64,
    "name": "ml.m5d.4xlarge",
    "vcpuNum": 16
   },
   {
    "_defaultOrder": 16,
    "_isFastLaunch": false,
    "category": "General purpose",
    "gpuNum": 0,
    "hideHardwareSpecs": false,
    "memoryGiB": 128,
    "name": "ml.m5d.8xlarge",
    "vcpuNum": 32
   },
   {
    "_defaultOrder": 17,
    "_isFastLaunch": false,
    "category": "General purpose",
    "gpuNum": 0,
    "hideHardwareSpecs": false,
    "memoryGiB": 192,
    "name": "ml.m5d.12xlarge",
    "vcpuNum": 48
   },
   {
    "_defaultOrder": 18,
    "_isFastLaunch": false,
    "category": "General purpose",
    "gpuNum": 0,
    "hideHardwareSpecs": false,
    "memoryGiB": 256,
    "name": "ml.m5d.16xlarge",
    "vcpuNum": 64
   },
   {
    "_defaultOrder": 19,
    "_isFastLaunch": false,
    "category": "General purpose",
    "gpuNum": 0,
    "hideHardwareSpecs": false,
    "memoryGiB": 384,
    "name": "ml.m5d.24xlarge",
    "vcpuNum": 96
   },
   {
    "_defaultOrder": 20,
    "_isFastLaunch": false,
    "category": "General purpose",
    "gpuNum": 0,
    "hideHardwareSpecs": true,
    "memoryGiB": 0,
    "name": "ml.geospatial.interactive",
    "supportedImageNames": [
     "sagemaker-geospatial-v1-0"
    ],
    "vcpuNum": 0
   },
   {
    "_defaultOrder": 21,
    "_isFastLaunch": true,
    "category": "Compute optimized",
    "gpuNum": 0,
    "hideHardwareSpecs": false,
    "memoryGiB": 4,
    "name": "ml.c5.large",
    "vcpuNum": 2
   },
   {
    "_defaultOrder": 22,
    "_isFastLaunch": false,
    "category": "Compute optimized",
    "gpuNum": 0,
    "hideHardwareSpecs": false,
    "memoryGiB": 8,
    "name": "ml.c5.xlarge",
    "vcpuNum": 4
   },
   {
    "_defaultOrder": 23,
    "_isFastLaunch": false,
    "category": "Compute optimized",
    "gpuNum": 0,
    "hideHardwareSpecs": false,
    "memoryGiB": 16,
    "name": "ml.c5.2xlarge",
    "vcpuNum": 8
   },
   {
    "_defaultOrder": 24,
    "_isFastLaunch": false,
    "category": "Compute optimized",
    "gpuNum": 0,
    "hideHardwareSpecs": false,
    "memoryGiB": 32,
    "name": "ml.c5.4xlarge",
    "vcpuNum": 16
   },
   {
    "_defaultOrder": 25,
    "_isFastLaunch": false,
    "category": "Compute optimized",
    "gpuNum": 0,
    "hideHardwareSpecs": false,
    "memoryGiB": 72,
    "name": "ml.c5.9xlarge",
    "vcpuNum": 36
   },
   {
    "_defaultOrder": 26,
    "_isFastLaunch": false,
    "category": "Compute optimized",
    "gpuNum": 0,
    "hideHardwareSpecs": false,
    "memoryGiB": 96,
    "name": "ml.c5.12xlarge",
    "vcpuNum": 48
   },
   {
    "_defaultOrder": 27,
    "_isFastLaunch": false,
    "category": "Compute optimized",
    "gpuNum": 0,
    "hideHardwareSpecs": false,
    "memoryGiB": 144,
    "name": "ml.c5.18xlarge",
    "vcpuNum": 72
   },
   {
    "_defaultOrder": 28,
    "_isFastLaunch": false,
    "category": "Compute optimized",
    "gpuNum": 0,
    "hideHardwareSpecs": false,
    "memoryGiB": 192,
    "name": "ml.c5.24xlarge",
    "vcpuNum": 96
   },
   {
    "_defaultOrder": 29,
    "_isFastLaunch": true,
    "category": "Accelerated computing",
    "gpuNum": 1,
    "hideHardwareSpecs": false,
    "memoryGiB": 16,
    "name": "ml.g4dn.xlarge",
    "vcpuNum": 4
   },
   {
    "_defaultOrder": 30,
    "_isFastLaunch": false,
    "category": "Accelerated computing",
    "gpuNum": 1,
    "hideHardwareSpecs": false,
    "memoryGiB": 32,
    "name": "ml.g4dn.2xlarge",
    "vcpuNum": 8
   },
   {
    "_defaultOrder": 31,
    "_isFastLaunch": false,
    "category": "Accelerated computing",
    "gpuNum": 1,
    "hideHardwareSpecs": false,
    "memoryGiB": 64,
    "name": "ml.g4dn.4xlarge",
    "vcpuNum": 16
   },
   {
    "_defaultOrder": 32,
    "_isFastLaunch": false,
    "category": "Accelerated computing",
    "gpuNum": 1,
    "hideHardwareSpecs": false,
    "memoryGiB": 128,
    "name": "ml.g4dn.8xlarge",
    "vcpuNum": 32
   },
   {
    "_defaultOrder": 33,
    "_isFastLaunch": false,
    "category": "Accelerated computing",
    "gpuNum": 4,
    "hideHardwareSpecs": false,
    "memoryGiB": 192,
    "name": "ml.g4dn.12xlarge",
    "vcpuNum": 48
   },
   {
    "_defaultOrder": 34,
    "_isFastLaunch": false,
    "category": "Accelerated computing",
    "gpuNum": 1,
    "hideHardwareSpecs": false,
    "memoryGiB": 256,
    "name": "ml.g4dn.16xlarge",
    "vcpuNum": 64
   },
   {
    "_defaultOrder": 35,
    "_isFastLaunch": false,
    "category": "Accelerated computing",
    "gpuNum": 1,
    "hideHardwareSpecs": false,
    "memoryGiB": 61,
    "name": "ml.p3.2xlarge",
    "vcpuNum": 8
   },
   {
    "_defaultOrder": 36,
    "_isFastLaunch": false,
    "category": "Accelerated computing",
    "gpuNum": 4,
    "hideHardwareSpecs": false,
    "memoryGiB": 244,
    "name": "ml.p3.8xlarge",
    "vcpuNum": 32
   },
   {
    "_defaultOrder": 37,
    "_isFastLaunch": false,
    "category": "Accelerated computing",
    "gpuNum": 8,
    "hideHardwareSpecs": false,
    "memoryGiB": 488,
    "name": "ml.p3.16xlarge",
    "vcpuNum": 64
   },
   {
    "_defaultOrder": 38,
    "_isFastLaunch": false,
    "category": "Accelerated computing",
    "gpuNum": 8,
    "hideHardwareSpecs": false,
    "memoryGiB": 768,
    "name": "ml.p3dn.24xlarge",
    "vcpuNum": 96
   },
   {
    "_defaultOrder": 39,
    "_isFastLaunch": false,
    "category": "Memory Optimized",
    "gpuNum": 0,
    "hideHardwareSpecs": false,
    "memoryGiB": 16,
    "name": "ml.r5.large",
    "vcpuNum": 2
   },
   {
    "_defaultOrder": 40,
    "_isFastLaunch": false,
    "category": "Memory Optimized",
    "gpuNum": 0,
    "hideHardwareSpecs": false,
    "memoryGiB": 32,
    "name": "ml.r5.xlarge",
    "vcpuNum": 4
   },
   {
    "_defaultOrder": 41,
    "_isFastLaunch": false,
    "category": "Memory Optimized",
    "gpuNum": 0,
    "hideHardwareSpecs": false,
    "memoryGiB": 64,
    "name": "ml.r5.2xlarge",
    "vcpuNum": 8
   },
   {
    "_defaultOrder": 42,
    "_isFastLaunch": false,
    "category": "Memory Optimized",
    "gpuNum": 0,
    "hideHardwareSpecs": false,
    "memoryGiB": 128,
    "name": "ml.r5.4xlarge",
    "vcpuNum": 16
   },
   {
    "_defaultOrder": 43,
    "_isFastLaunch": false,
    "category": "Memory Optimized",
    "gpuNum": 0,
    "hideHardwareSpecs": false,
    "memoryGiB": 256,
    "name": "ml.r5.8xlarge",
    "vcpuNum": 32
   },
   {
    "_defaultOrder": 44,
    "_isFastLaunch": false,
    "category": "Memory Optimized",
    "gpuNum": 0,
    "hideHardwareSpecs": false,
    "memoryGiB": 384,
    "name": "ml.r5.12xlarge",
    "vcpuNum": 48
   },
   {
    "_defaultOrder": 45,
    "_isFastLaunch": false,
    "category": "Memory Optimized",
    "gpuNum": 0,
    "hideHardwareSpecs": false,
    "memoryGiB": 512,
    "name": "ml.r5.16xlarge",
    "vcpuNum": 64
   },
   {
    "_defaultOrder": 46,
    "_isFastLaunch": false,
    "category": "Memory Optimized",
    "gpuNum": 0,
    "hideHardwareSpecs": false,
    "memoryGiB": 768,
    "name": "ml.r5.24xlarge",
    "vcpuNum": 96
   },
   {
    "_defaultOrder": 47,
    "_isFastLaunch": false,
    "category": "Accelerated computing",
    "gpuNum": 1,
    "hideHardwareSpecs": false,
    "memoryGiB": 16,
    "name": "ml.g5.xlarge",
    "vcpuNum": 4
   },
   {
    "_defaultOrder": 48,
    "_isFastLaunch": false,
    "category": "Accelerated computing",
    "gpuNum": 1,
    "hideHardwareSpecs": false,
    "memoryGiB": 32,
    "name": "ml.g5.2xlarge",
    "vcpuNum": 8
   },
   {
    "_defaultOrder": 49,
    "_isFastLaunch": false,
    "category": "Accelerated computing",
    "gpuNum": 1,
    "hideHardwareSpecs": false,
    "memoryGiB": 64,
    "name": "ml.g5.4xlarge",
    "vcpuNum": 16
   },
   {
    "_defaultOrder": 50,
    "_isFastLaunch": false,
    "category": "Accelerated computing",
    "gpuNum": 1,
    "hideHardwareSpecs": false,
    "memoryGiB": 128,
    "name": "ml.g5.8xlarge",
    "vcpuNum": 32
   },
   {
    "_defaultOrder": 51,
    "_isFastLaunch": false,
    "category": "Accelerated computing",
    "gpuNum": 1,
    "hideHardwareSpecs": false,
    "memoryGiB": 256,
    "name": "ml.g5.16xlarge",
    "vcpuNum": 64
   },
   {
    "_defaultOrder": 52,
    "_isFastLaunch": false,
    "category": "Accelerated computing",
    "gpuNum": 4,
    "hideHardwareSpecs": false,
    "memoryGiB": 192,
    "name": "ml.g5.12xlarge",
    "vcpuNum": 48
   },
   {
    "_defaultOrder": 53,
    "_isFastLaunch": false,
    "category": "Accelerated computing",
    "gpuNum": 4,
    "hideHardwareSpecs": false,
    "memoryGiB": 384,
    "name": "ml.g5.24xlarge",
    "vcpuNum": 96
   },
   {
    "_defaultOrder": 54,
    "_isFastLaunch": false,
    "category": "Accelerated computing",
    "gpuNum": 8,
    "hideHardwareSpecs": false,
    "memoryGiB": 768,
    "name": "ml.g5.48xlarge",
    "vcpuNum": 192
   },
   {
    "_defaultOrder": 55,
    "_isFastLaunch": false,
    "category": "Accelerated computing",
    "gpuNum": 8,
    "hideHardwareSpecs": false,
    "memoryGiB": 1152,
    "name": "ml.p4d.24xlarge",
    "vcpuNum": 96
   },
   {
    "_defaultOrder": 56,
    "_isFastLaunch": false,
    "category": "Accelerated computing",
    "gpuNum": 8,
    "hideHardwareSpecs": false,
    "memoryGiB": 1152,
    "name": "ml.p4de.24xlarge",
    "vcpuNum": 96
   }
  ],
  "instance_type": "ml.t3.medium",
  "kernelspec": {
   "display_name": "Python 3 (Data Science 3.0)",
   "language": "python",
   "name": "python3__SAGEMAKER_INTERNAL__arn:aws:sagemaker:us-east-1:081325390199:image/sagemaker-data-science-310-v1"
  },
  "language_info": {
   "codemirror_mode": {
    "name": "ipython",
    "version": 3
   },
   "file_extension": ".py",
   "mimetype": "text/x-python",
   "name": "python",
   "nbconvert_exporter": "python",
   "pygments_lexer": "ipython3",
   "version": "3.10.6"
  }
 },
 "nbformat": 4,
 "nbformat_minor": 5
}
